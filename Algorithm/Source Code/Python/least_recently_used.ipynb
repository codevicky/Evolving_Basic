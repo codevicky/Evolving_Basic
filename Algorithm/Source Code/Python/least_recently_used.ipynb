{
 "cells": [
  {
   "cell_type": "code",
   "execution_count": 2,
   "metadata": {
    "collapsed": false
   },
   "outputs": [],
   "source": [
    "#ref: https://gist.github.com/reterVision/5018901\n",
    "\n",
    "from datetime import datetime\n",
    "\n",
    "\n",
    "class LRUCacheItem(object):\n",
    "    \"\"\"Data structure of items stored in cache\"\"\"\n",
    "    def __init__(self, key, item):\n",
    "        self.key = key\n",
    "        self.item = item\n",
    "        self.timestamp = datetime.now()\n",
    "\n",
    "\n",
    "class LRUCache(object):\n",
    "    \"\"\"A sample class that implements LRU algorithm\"\"\"\n",
    "\n",
    "    def __init__(self, length, delta=None):\n",
    "        self.length = length\n",
    "        self.delta = delta\n",
    "        self.hash = {}\n",
    "        self.item_list = []\n",
    "\n",
    "    def insertItem(self, item):\n",
    "        \"\"\"Insert new items to cache\"\"\"\n",
    "\n",
    "        if item.key in self.hash:\n",
    "            # Move the existing item to the head of item_list.\n",
    "            item_index = self.item_list.index(item)\n",
    "            self.item_list[:] = self.item_list[:item_index] + self.item_list[item_index+1:]\n",
    "            self.item_list.insert(0, item)\n",
    "        else:\n",
    "            # Remove the last item if the length of cache exceeds the upper bound.\n",
    "            if len(self.item_list) > self.length:\n",
    "                self.removeItem(self.item_list[-1])\n",
    "\n",
    "            # If this is a new item, just append it to\n",
    "            # the front of item_list.\n",
    "            self.hash[item.key] = item\n",
    "            self.item_list.insert(0, item)\n",
    "\n",
    "    def removeItem(self, item):\n",
    "        \"\"\"Remove those invalid items\"\"\"\n",
    "\n",
    "        del self.hash[item.key]\n",
    "        del self.item_list[self.item_list.index(item)]\n",
    "\n",
    "    def validateItem(self):\n",
    "        \"\"\"Check if the items are still valid.\"\"\"\n",
    "\n",
    "        def _outdated_items():\n",
    "            now = datetime.now()\n",
    "            for item in self.item_list:\n",
    "                time_delta = now - item.timestamp\n",
    "                if time_delta.seconds > self.delta:\n",
    "                    yield item\n",
    "        map(lambda x: self.removeItem(x), _outdated_items())"
   ]
  },
  {
   "cell_type": "code",
   "execution_count": null,
   "metadata": {
    "collapsed": true
   },
   "outputs": [],
   "source": []
  }
 ],
 "metadata": {
  "anaconda-cloud": {},
  "kernelspec": {
   "display_name": "Python [default]",
   "language": "python",
   "name": "python3"
  },
  "language_info": {
   "codemirror_mode": {
    "name": "ipython",
    "version": 3
   },
   "file_extension": ".py",
   "mimetype": "text/x-python",
   "name": "python",
   "nbconvert_exporter": "python",
   "pygments_lexer": "ipython3",
   "version": "3.5.2"
  }
 },
 "nbformat": 4,
 "nbformat_minor": 2
}
