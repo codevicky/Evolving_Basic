{
 "cells": [
  {
   "cell_type": "code",
   "execution_count": null,
   "metadata": {
    "collapsed": true
   },
   "outputs": [],
   "source": [
    "#ref: https://github.com/minsuk-heo/problemsolving/blob/master/graph/bfs.py\n",
    "\n",
    "vertexList = ['A', 'B', 'C', 'D', 'E', 'F', 'G']\n",
    "edgeList = [(0,1), (1,2), (1,3), (3,4), (4,5), (1,6)]\n",
    "graphs = (vertexList, edgeList)\n",
    "\n",
    "def bfs(graph, start):\n",
    "    vertexList, edgeList = graph\n",
    "    visitedList = []\n",
    "    queue = [start]\n",
    "    adjacencyList = [[] for vertex in vertexList]\n",
    "\n",
    "    # fill adjacencyList from graph\n",
    "    for edge in edgeList:\n",
    "        adjacencyList[edge[0]].append(edge[1])\n",
    "\n",
    "    # bfs\n",
    "    while queue:\n",
    "        current = queue.pop()\n",
    "        for neighbor in adjacencyList[current]:\n",
    "            if not neighbor in visitedList:\n",
    "                queue.insert(0,neighbor)\n",
    "        visitedList.append(current)\n",
    "    return visitedList\n",
    "\n",
    "print(bfs(graphs, 0))"
   ]
  }
 ],
 "metadata": {
  "anaconda-cloud": {},
  "kernelspec": {
   "display_name": "Python [default]",
   "language": "python",
   "name": "python3"
  },
  "language_info": {
   "codemirror_mode": {
    "name": "ipython",
    "version": 3
   },
   "file_extension": ".py",
   "mimetype": "text/x-python",
   "name": "python",
   "nbconvert_exporter": "python",
   "pygments_lexer": "ipython3",
   "version": "3.5.2"
  }
 },
 "nbformat": 4,
 "nbformat_minor": 2
}
