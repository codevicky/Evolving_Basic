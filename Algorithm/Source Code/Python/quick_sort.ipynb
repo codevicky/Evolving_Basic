{
 "cells": [
  {
   "cell_type": "code",
   "execution_count": 11,
   "metadata": {
    "collapsed": true
   },
   "outputs": [],
   "source": [
    "# The 1st solution\n",
    "# reference: https://github.com/minsuk-heo/problemsolving/blob/master/sort/QuickSort.py\n",
    "# no cache\n",
    "\n",
    "def quick_sort(a_list, start, end):\n",
    "    # because the algorithm is using in-place space, we can not use len(list)\n",
    "    # instead we use start&end for sublist\n",
    "    if start < end:\n",
    "        pivot = partition(a_list, start, end)\n",
    "        quick_sort(a_list, start, pivot-1)\n",
    "        quick_sort(a_list, pivot+1, end)\n",
    "    return a_list\n",
    "\n",
    "\n",
    "def partition(a_list, start, end):\n",
    "    pivot = end\n",
    "    wall = start\n",
    "    left= start\n",
    "    while left < pivot:\n",
    "        # if left item is smaller than pivot, swap left item with wall and move wall to right\n",
    "        # this will ensure items smaller than pivot stay left side from the wall \n",
    "        # and the items greater than pivot stay right side from the wall\n",
    "        if a_list[left] < a_list[pivot]:\n",
    "            a_list[wall], a_list[left] = a_list[left], a_list[wall]\n",
    "            wall = wall + 1\n",
    "        left = left + 1\n",
    "        \n",
    "    # when left hit the end of list, swap pivot with wall\n",
    "    a_list[wall], a_list[pivot] = a_list[pivot], a_list[wall]\n",
    "        \n",
    "    pivot = wall\n",
    "    return pivot"
   ]
  },
  {
   "cell_type": "code",
   "execution_count": 12,
   "metadata": {
    "collapsed": false
   },
   "outputs": [
    {
     "data": {
      "text/plain": [
       "[1, 2, 4, 5, 7]"
      ]
     },
     "execution_count": 12,
     "metadata": {},
     "output_type": "execute_result"
    }
   ],
   "source": [
    "quick_sort([1,5,4,7,2], 0, 4)"
   ]
  },
  {
   "cell_type": "code",
   "execution_count": 38,
   "metadata": {
    "collapsed": true
   },
   "outputs": [],
   "source": [
    "# The 2nd solution\n",
    "\n",
    "def quick_sort_2(a_list):\n",
    "\n",
    "    if len(a_list) == 0 or len(a_list) == 1: return a_list\n",
    "    else:\n",
    "        wall = 0\n",
    "        pivot = a_list[len(a_list)-1]\n",
    "        for i in range(len(a_list)-1):\n",
    "            if a_list[i] < pivot:\n",
    "                a_list[i], a_list[wall] = a_list[wall], a_list[i]\n",
    "                wall = wall + 1\n",
    "                print(i)\n",
    "                print(a_list)\n",
    "        a_list[len(a_list)-1], a_list[wall] = a_list[wall], a_list[len(a_list)-1]\n",
    "        part_1 = quick_sort(a_list[:wall])\n",
    "        part_2 = quick_sort(a_list[wall+1:])\n",
    "        part_1.append(a_list[wall])\n",
    "        return part_1 + part_2\n"
   ]
  },
  {
   "cell_type": "code",
   "execution_count": 40,
   "metadata": {
    "collapsed": false
   },
   "outputs": [
    {
     "name": "stdout",
     "output_type": "stream",
     "text": [
      "0\n",
      "[3, 1, 2, 7, 8, 4]\n",
      "1\n",
      "[3, 1, 2, 7, 8, 4]\n",
      "2\n",
      "[3, 1, 2, 7, 8, 4]\n",
      "1\n",
      "[1, 3, 2]\n",
      "part_1 [1]\n",
      "part_1 [1, 2, 3]\n",
      "part_1 []\n"
     ]
    },
    {
     "data": {
      "text/plain": [
       "[1, 2, 3, 4, 7, 8]"
      ]
     },
     "execution_count": 40,
     "metadata": {},
     "output_type": "execute_result"
    }
   ],
   "source": [
    "quick_sort_2([3,1,2,7,8,4])"
   ]
  },
  {
   "cell_type": "code",
   "execution_count": 41,
   "metadata": {
    "collapsed": true
   },
   "outputs": [],
   "source": [
    "# The 3rd solution\n",
    "# reference: https://gist.github.com/anirudhjayaraman/897ca0d97a249180a48b50d62c87f239\n",
    "\n",
    "def quick_sort_3(x):\n",
    "      if len(x) < 2:\n",
    "          return x\n",
    "      else:\n",
    "          pivot = x[0]\n",
    "          less = [i for i in x[1:] if i <= pivot]\n",
    "          greater = [i for i in x[1:] if i > pivot]\n",
    "          return quicksort(less) + [pivot] + quicksort(greater)"
   ]
  },
  {
   "cell_type": "code",
   "execution_count": 42,
   "metadata": {
    "collapsed": false
   },
   "outputs": [
    {
     "data": {
      "text/plain": [
       "[1, 2, 4, 5, 7, 8]"
      ]
     },
     "execution_count": 42,
     "metadata": {},
     "output_type": "execute_result"
    }
   ],
   "source": [
    "quick_sort_3([1,4,5,2,7,8])"
   ]
  },
  {
   "cell_type": "code",
   "execution_count": 48,
   "metadata": {
    "collapsed": true
   },
   "outputs": [],
   "source": [
    "# The 4th solution\n",
    "# reference: https://ko.wikipedia.org/wiki/%ED%80%B5_%EC%A0%95%EB%A0%AC\n",
    "\n",
    "def quick_sort_4(a_list):\n",
    "    if len(a_list) < 2:\n",
    "        return a_list\n",
    "    else:\n",
    "        pivot = a_list[len(a_list)-1]\n",
    "        less = [ i for i in a_list[:-1] if i <= pivot]\n",
    "        greater = [i for i in a_list[:-1] if i > pivot]\n",
    "        \n",
    "        return quicksort(less) + [pivot] + quicksort(greater)"
   ]
  },
  {
   "cell_type": "code",
   "execution_count": 49,
   "metadata": {
    "collapsed": false
   },
   "outputs": [
    {
     "data": {
      "text/plain": [
       "[1, 2, 3, 6, 6]"
      ]
     },
     "execution_count": 49,
     "metadata": {},
     "output_type": "execute_result"
    }
   ],
   "source": [
    "quick_sort_4([2,3,6,1,6])"
   ]
  }
 ],
 "metadata": {
  "anaconda-cloud": {},
  "kernelspec": {
   "display_name": "Python [default]",
   "language": "python",
   "name": "python3"
  },
  "language_info": {
   "codemirror_mode": {
    "name": "ipython",
    "version": 3
   },
   "file_extension": ".py",
   "mimetype": "text/x-python",
   "name": "python",
   "nbconvert_exporter": "python",
   "pygments_lexer": "ipython3",
   "version": "3.5.2"
  }
 },
 "nbformat": 4,
 "nbformat_minor": 2
}
