{
 "cells": [
  {
   "cell_type": "code",
   "execution_count": null,
   "metadata": {
    "collapsed": true
   },
   "outputs": [],
   "source": [
    "# The 1st solution\n",
    "# reference: https://github.com/minsuk-heo/problemsolving/blob/master/sort/SelectionSort.py\n",
    "\n",
    "def selection_sort(a_list):\n",
    "    for i in range(len(a_list) - 1):\n",
    "        idx_min = i\n",
    "        j = i + 1\n",
    "\n",
    "        while j < len(a_list):\n",
    "            if(input[j] < input[idx_min]):\n",
    "                idx_min = j\n",
    "            j = j + 1\n",
    "\n",
    "        if idx_min is not i:\n",
    "            input[idx_min], input[i] = input[i], input[idx_min]\n",
    "\n",
    "return input"
   ]
  }
 ],
 "metadata": {
  "anaconda-cloud": {},
  "kernelspec": {
   "display_name": "Python [default]",
   "language": "python",
   "name": "python3"
  },
  "language_info": {
   "codemirror_mode": {
    "name": "ipython",
    "version": 3
   },
   "file_extension": ".py",
   "mimetype": "text/x-python",
   "name": "python",
   "nbconvert_exporter": "python",
   "pygments_lexer": "ipython3",
   "version": "3.5.2"
  }
 },
 "nbformat": 4,
 "nbformat_minor": 2
}
