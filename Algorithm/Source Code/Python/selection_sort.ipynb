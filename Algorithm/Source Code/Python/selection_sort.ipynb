{
 "cells": [
  {
   "cell_type": "code",
   "execution_count": 8,
   "metadata": {
    "collapsed": false
   },
   "outputs": [],
   "source": [
    "# The 1st solution\n",
    "# reference: https://github.com/minsuk-heo/problemsolving/blob/master/sort/SelectionSort.py\n",
    "\n",
    "def selection_sort(a_list):\n",
    "    for i in range(len(a_list) - 1):\n",
    "        idx_min = i\n",
    "        j = i + 1\n",
    "\n",
    "        while j < len(a_list):\n",
    "            if(a_list[j] < a_list[idx_min]):\n",
    "                idx_min = j\n",
    "            j = j + 1\n",
    "\n",
    "        if idx_min is not i:\n",
    "            a_list[idx_min], a_list[i] = a_list[i], a_list[idx_min]\n",
    "\n",
    "    return a_list"
   ]
  },
  {
   "cell_type": "code",
   "execution_count": 9,
   "metadata": {
    "collapsed": false
   },
   "outputs": [
    {
     "data": {
      "text/plain": [
       "[1, 2, 4, 5, 5, 6, 6, 7, 8]"
      ]
     },
     "execution_count": 9,
     "metadata": {},
     "output_type": "execute_result"
    }
   ],
   "source": [
    "selection_sort([1,6,5,2,4,5,6,7,8])"
   ]
  }
 ],
 "metadata": {
  "anaconda-cloud": {},
  "kernelspec": {
   "display_name": "Python [default]",
   "language": "python",
   "name": "python3"
  },
  "language_info": {
   "codemirror_mode": {
    "name": "ipython",
    "version": 3
   },
   "file_extension": ".py",
   "mimetype": "text/x-python",
   "name": "python",
   "nbconvert_exporter": "python",
   "pygments_lexer": "ipython3",
   "version": "3.5.2"
  }
 },
 "nbformat": 4,
 "nbformat_minor": 2
}
