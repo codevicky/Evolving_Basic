{
 "cells": [
  {
   "cell_type": "code",
   "execution_count": 1,
   "metadata": {
    "collapsed": true
   },
   "outputs": [],
   "source": [
    "# The 1st solution\n",
    "# reference: https://github.com/minsuk-heo/problemsolving/blob/master/sort/InsertionSort.py\n",
    "\n",
    "def insertion_sort_1(a_list):\n",
    "    \n",
    "    for idx, insert_value in enumerate(a_list):\n",
    "        hole_position = idx\n",
    "        \n",
    "        while hole_position > 0 and a_list[hole_position-1] > insert_value:\n",
    "            a_list[hole_position -1], a_list[hole_position] = a_list[hole_position], a_list[hole_position-1]\n",
    "            hole_position = hole_position - 1\n",
    "    \n",
    "    return a_list"
   ]
  },
  {
   "cell_type": "code",
   "execution_count": 2,
   "metadata": {
    "collapsed": false
   },
   "outputs": [
    {
     "data": {
      "text/plain": [
       "[1, 2, 5, 6]"
      ]
     },
     "execution_count": 2,
     "metadata": {},
     "output_type": "execute_result"
    }
   ],
   "source": [
    "insertion_sort_1([1,5,6,2])"
   ]
  },
  {
   "cell_type": "code",
   "execution_count": 5,
   "metadata": {
    "collapsed": true
   },
   "outputs": [],
   "source": [
    "# The 2nd solution\n",
    "def insertion_sort_2(a_list):\n",
    "    \n",
    "    for i in range (1, len(a_list)):\n",
    "        for j in range (i, 0, -1):\n",
    "            if a_list[j] < a_list[j-1]:\n",
    "                a_list[j], a_list[j-1] = a_list[j-1], a_list[j]\n",
    "            else: break\n",
    "    return a_list"
   ]
  },
  {
   "cell_type": "code",
   "execution_count": 6,
   "metadata": {
    "collapsed": false
   },
   "outputs": [
    {
     "data": {
      "text/plain": [
       "[1, 2, 5, 7]"
      ]
     },
     "execution_count": 6,
     "metadata": {},
     "output_type": "execute_result"
    }
   ],
   "source": [
    "insertion_sort_2([1,5,7,2])"
   ]
  }
 ],
 "metadata": {
  "anaconda-cloud": {},
  "kernelspec": {
   "display_name": "Python [default]",
   "language": "python",
   "name": "python3"
  },
  "language_info": {
   "codemirror_mode": {
    "name": "ipython",
    "version": 3
   },
   "file_extension": ".py",
   "mimetype": "text/x-python",
   "name": "python",
   "nbconvert_exporter": "python",
   "pygments_lexer": "ipython3",
   "version": "3.5.2"
  }
 },
 "nbformat": 4,
 "nbformat_minor": 2
}
