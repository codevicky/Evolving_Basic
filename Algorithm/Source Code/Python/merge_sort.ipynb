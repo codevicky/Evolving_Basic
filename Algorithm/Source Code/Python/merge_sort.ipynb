{
 "cells": [
  {
   "cell_type": "code",
   "execution_count": 5,
   "metadata": {
    "collapsed": false
   },
   "outputs": [],
   "source": [
    "# The 1st solution\n",
    "# reference: https://github.com/minsuk-heo/problemsolving/blob/master/sort/MergeSort.py\n",
    "\n",
    "def merge_sort(a_list):\n",
    "    print(\"Splitting \",a_list)\n",
    "    if len(a_list) >1:\n",
    "        mid = len(a_list)//2\n",
    "        left_half = a_list[:mid]\n",
    "        right_half = a_list[mid:]\n",
    "        \n",
    "        merge_sort(left_half)\n",
    "        merge_sort(right_half)\n",
    "        \n",
    "        i = 0\n",
    "        j = 0\n",
    "        k = 0\n",
    "        \n",
    "        while i < len(left_half) and j < len(right_half):\n",
    "            if left_half[i] < right_half[j]:\n",
    "                a_list[k] = left_half[i]\n",
    "                i = i+1\n",
    "            else:\n",
    "                a_list[k] = right_half[j]\n",
    "                j = j+1\n",
    "            k = k+1\n",
    "        \n",
    "        while i < len(left_half):\n",
    "            a_list[k] = left_half[i]\n",
    "            i = i+1\n",
    "            k = k+1\n",
    "        \n",
    "        while j < len(right_half):\n",
    "            a_list[k] = right_half[j]\n",
    "            j = j+1\n",
    "            k = k+1\n",
    "            \n",
    "            \n",
    "    print(\"Merging\", a_list)"
   ]
  },
  {
   "cell_type": "code",
   "execution_count": 9,
   "metadata": {
    "collapsed": false
   },
   "outputs": [
    {
     "name": "stdout",
     "output_type": "stream",
     "text": [
      "Splitting  ['a', 'b', 'd', 'y', 'k']\n",
      "Splitting  ['a', 'b']\n",
      "Splitting  ['a']\n",
      "Merging ['a']\n",
      "Splitting  ['b']\n",
      "Merging ['b']\n",
      "Merging ['a', 'b']\n",
      "Splitting  ['d', 'y', 'k']\n",
      "Splitting  ['d']\n",
      "Merging ['d']\n",
      "Splitting  ['y', 'k']\n",
      "Splitting  ['y']\n",
      "Merging ['y']\n",
      "Splitting  ['k']\n",
      "Merging ['k']\n",
      "Merging ['k', 'y']\n",
      "Merging ['d', 'k', 'y']\n",
      "Merging ['a', 'b', 'd', 'k', 'y']\n"
     ]
    }
   ],
   "source": [
    "merge_sort(['a','b','d','y', 'k'])"
   ]
  }
 ],
 "metadata": {
  "anaconda-cloud": {},
  "kernelspec": {
   "display_name": "Python [default]",
   "language": "python",
   "name": "python3"
  },
  "language_info": {
   "codemirror_mode": {
    "name": "ipython",
    "version": 3
   },
   "file_extension": ".py",
   "mimetype": "text/x-python",
   "name": "python",
   "nbconvert_exporter": "python",
   "pygments_lexer": "ipython3",
   "version": "3.5.2"
  }
 },
 "nbformat": 4,
 "nbformat_minor": 2
}
