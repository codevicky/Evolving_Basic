{
 "cells": [
  {
   "cell_type": "code",
   "execution_count": 28,
   "metadata": {
    "collapsed": false
   },
   "outputs": [],
   "source": [
    "# The 1st solution\n",
    "# reference: https://github.com/minsuk-heo/problemsolving/blob/master/sort/BubbleSort.pyimpor\n",
    "\n",
    "def bubble_sort_1(a_list):\n",
    "    for i in range(len(a_list)-1):\n",
    "        for j in range(len(a_list)-1):\n",
    "            if a_list[j] > a_list[j+1]:\n",
    "                a_list[j], a_list[j+1] = a_list[j+1], a_list[j]\n",
    "    return a_list\n"
   ]
  },
  {
   "cell_type": "code",
   "execution_count": 35,
   "metadata": {
    "collapsed": false
   },
   "outputs": [
    {
     "data": {
      "text/plain": [
       "([1, 2, 4, 5, 5, 6, 6, 7, 8], 0.0)"
      ]
     },
     "execution_count": 35,
     "metadata": {},
     "output_type": "execute_result"
    }
   ],
   "source": [
    "bubble_sort_1([1,6,5,2,4,5,6,7,8])"
   ]
  },
  {
   "cell_type": "code",
   "execution_count": 10,
   "metadata": {
    "collapsed": true
   },
   "outputs": [],
   "source": [
    "# The 2nd solution\n",
    "\n",
    "def bubble_sort_2(a_list):\n",
    "    for i in range(len(a_list)-1):\n",
    "        #skip the sorted part\n",
    "        for j in range(len(a_list)-1-i):\n",
    "            if a_list[j] > a_list[j+1]:\n",
    "                a_list[j], a_list[j+1] = a_list[j+1], a_list[j]\n",
    "    return a_list"
   ]
  },
  {
   "cell_type": "code",
   "execution_count": 11,
   "metadata": {
    "collapsed": false
   },
   "outputs": [
    {
     "data": {
      "text/plain": [
       "[1, 2, 5, 6]"
      ]
     },
     "execution_count": 11,
     "metadata": {},
     "output_type": "execute_result"
    }
   ],
   "source": [
    "bubble_sort_2([1,6,5,2])"
   ]
  }
 ],
 "metadata": {
  "anaconda-cloud": {},
  "kernelspec": {
   "display_name": "Python [conda root]",
   "language": "python",
   "name": "conda-root-py"
  },
  "language_info": {
   "codemirror_mode": {
    "name": "ipython",
    "version": 3
   },
   "file_extension": ".py",
   "mimetype": "text/x-python",
   "name": "python",
   "nbconvert_exporter": "python",
   "pygments_lexer": "ipython3",
   "version": "3.5.2"
  }
 },
 "nbformat": 4,
 "nbformat_minor": 2
}
