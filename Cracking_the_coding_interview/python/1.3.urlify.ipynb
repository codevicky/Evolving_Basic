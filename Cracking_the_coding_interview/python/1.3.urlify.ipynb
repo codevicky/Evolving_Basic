{
 "cells": [
  {
   "cell_type": "code",
   "execution_count": 39,
   "metadata": {
    "collapsed": true
   },
   "outputs": [],
   "source": [
    "#ref: https://github.com/careercup/CtCI-6th-Edition-Python/blob/e6bc732588601d0a98e5b1bc44d83644b910978d/Chapter1/3_URLify/URLify.py\n",
    "def urlify_1 (in_str, length):\n",
    "    new_index = len(in_str)\n",
    "    for i in reversed(range(length)):\n",
    "        if in_str[i] == ' ':\n",
    "            in_str[new_index - 3:new_index] = '%20'\n",
    "            new_index -= 3\n",
    "        else:\n",
    "            #in_str[new_index -1] = in_str[i]\n",
    "            # 'str' object does not support item assignment 오류 발생\n",
    "            str_added = in_str[i]\n",
    "            in_str[new_index-1] = str_added\n",
    "            new_index -= 1\n",
    "    return ''.join(in_str)\n"
   ]
  },
  {
   "cell_type": "code",
   "execution_count": 40,
   "metadata": {
    "collapsed": false
   },
   "outputs": [
    {
     "name": "stdout",
     "output_type": "stream",
     "text": [
      "28\n",
      "[21, 20, 19, 18, 17, 16, 15, 14, 13, 12, 11, 10, 9, 8, 7, 6, 5, 4, 3, 2, 1, 0]\n"
     ]
    },
    {
     "data": {
      "text/plain": [
       "'much%20ado%20about%20nothing'"
      ]
     },
     "execution_count": 40,
     "metadata": {},
     "output_type": "execute_result"
    }
   ],
   "source": [
    "#java의 char 역할을 list가 하는 것\n",
    "urlify_1(list('much ado about nothing      '), 22)"
   ]
  }
 ],
 "metadata": {
  "anaconda-cloud": {},
  "kernelspec": {
   "display_name": "Python [default]",
   "language": "python",
   "name": "python3"
  },
  "language_info": {
   "codemirror_mode": {
    "name": "ipython",
    "version": 3
   },
   "file_extension": ".py",
   "mimetype": "text/x-python",
   "name": "python",
   "nbconvert_exporter": "python",
   "pygments_lexer": "ipython3",
   "version": "3.5.2"
  }
 },
 "nbformat": 4,
 "nbformat_minor": 2
}
