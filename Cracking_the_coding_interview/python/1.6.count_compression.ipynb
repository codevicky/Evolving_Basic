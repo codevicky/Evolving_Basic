{
 "cells": [
  {
   "cell_type": "code",
   "execution_count": 8,
   "metadata": {
    "collapsed": true
   },
   "outputs": [],
   "source": [
    "# ref: https://github.com/careercup/CtCI-6th-Edition-Python/blob/e6bc732588601d0a98e5b1bc44d83644b910978d/Chapter1/6_String%20Compression/StringCompression.py\n",
    "# O(N)\n",
    "\n",
    "def str_compression(string):\n",
    "    compressed = []\n",
    "    counter = 0\n",
    "    \n",
    "    for i in range(len(string)):\n",
    "        if i != 0 and string[i] != string[i - 1]:\n",
    "            compressed.append(string[i - 1] + str(counter))\n",
    "            counter = 0\n",
    "        counter += 1\n",
    "        \n",
    "    # add last repeated character\n",
    "    compressed.append(string[-1] + str(counter))\n",
    "    \n",
    "    # returns original string if compressed string isn't smaller\n",
    "    # built-in function, returns the minimum value\n",
    "    return min(string, ''.join(compressed), key = len)"
   ]
  },
  {
   "cell_type": "code",
   "execution_count": 10,
   "metadata": {
    "collapsed": false
   },
   "outputs": [
    {
     "data": {
      "text/plain": [
       "'s4d1f2'"
      ]
     },
     "execution_count": 10,
     "metadata": {},
     "output_type": "execute_result"
    }
   ],
   "source": [
    "str_compression('ssssdff')"
   ]
  }
 ],
 "metadata": {
  "anaconda-cloud": {},
  "kernelspec": {
   "display_name": "Python [default]",
   "language": "python",
   "name": "python3"
  },
  "language_info": {
   "codemirror_mode": {
    "name": "ipython",
    "version": 3
   },
   "file_extension": ".py",
   "mimetype": "text/x-python",
   "name": "python",
   "nbconvert_exporter": "python",
   "pygments_lexer": "ipython3",
   "version": "3.5.2"
  }
 },
 "nbformat": 4,
 "nbformat_minor": 2
}
