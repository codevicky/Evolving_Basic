{
 "cells": [
  {
   "cell_type": "code",
   "execution_count": 22,
   "metadata": {
    "collapsed": false
   },
   "outputs": [],
   "source": [
    "def sort(str):\n",
    "    return ''.join(sorted(str))\n",
    "\n",
    "def check_perm_1(s, t):\n",
    "    if len(s) is not len(t):\n",
    "        return False\n",
    "    return sort(s) == sort(t)\n",
    "\n",
    "def check_perm_2(s, t):\n",
    "    if len(s) is not len(t):\n",
    "        return False\n",
    "    letters = {}\n",
    "    for c in s:\n",
    "        if c in letters:\n",
    "            letters[c] += 1\n",
    "        else:\n",
    "            letters[c] = 1\n",
    "    for ct in t:\n",
    "        if ct in letters:\n",
    "            letters[ct] -= 1\n",
    "            if (letters[ct] < 0):\n",
    "                return False\n",
    "        else: return False\n",
    "    \n",
    "    return True\n"
   ]
  },
  {
   "cell_type": "code",
   "execution_count": 17,
   "metadata": {
    "collapsed": false
   },
   "outputs": [
    {
     "data": {
      "text/plain": [
       "False"
      ]
     },
     "execution_count": 17,
     "metadata": {},
     "output_type": "execute_result"
    }
   ],
   "source": [
    "check_perm_1('dlkj', 'ffdjk')"
   ]
  },
  {
   "cell_type": "code",
   "execution_count": 25,
   "metadata": {
    "collapsed": false
   },
   "outputs": [
    {
     "data": {
      "text/plain": [
       "True"
      ]
     },
     "execution_count": 25,
     "metadata": {},
     "output_type": "execute_result"
    }
   ],
   "source": [
    "check_perm_2('dlkjd', 'ddljk')"
   ]
  }
 ],
 "metadata": {
  "anaconda-cloud": {},
  "kernelspec": {
   "display_name": "Python [default]",
   "language": "python",
   "name": "python3"
  },
  "language_info": {
   "codemirror_mode": {
    "name": "ipython",
    "version": 3
   },
   "file_extension": ".py",
   "mimetype": "text/x-python",
   "name": "python",
   "nbconvert_exporter": "python",
   "pygments_lexer": "ipython3",
   "version": "3.5.2"
  }
 },
 "nbformat": 4,
 "nbformat_minor": 2
}
