{
 "cells": [
  {
   "cell_type": "code",
   "execution_count": 3,
   "metadata": {
    "collapsed": false
   },
   "outputs": [],
   "source": [
    "\n",
    "def one_edit_check(s_1, s_2):\n",
    "    #assume that characters are all lower_case\n",
    "    if abs(len(s_1)-len(s_2)) > 1:\n",
    "        retrun false\n",
    "    table = [0 for _ in range(ord('z') - ord('a'))]\n",
    "    \n",
    "    for c_1 in s_1:\n",
    "        table[ord(c_1) - ord('a')] += 1\n",
    "    \n",
    "    for c_2 in s_2:\n",
    "        table[ord(c_2) - ord('a')] -= 1\n",
    "        \n"
   ]
  }
 ],
 "metadata": {
  "anaconda-cloud": {},
  "kernelspec": {
   "display_name": "Python [default]",
   "language": "python",
   "name": "python3"
  },
  "language_info": {
   "codemirror_mode": {
    "name": "ipython",
    "version": 3
   },
   "file_extension": ".py",
   "mimetype": "text/x-python",
   "name": "python",
   "nbconvert_exporter": "python",
   "pygments_lexer": "ipython3",
   "version": "3.5.2"
  }
 },
 "nbformat": 4,
 "nbformat_minor": 2
}
