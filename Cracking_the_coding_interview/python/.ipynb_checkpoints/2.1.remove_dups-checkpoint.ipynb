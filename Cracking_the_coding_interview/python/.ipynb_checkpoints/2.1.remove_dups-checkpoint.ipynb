{
 "cells": [
  {
   "cell_type": "code",
   "execution_count": 42,
   "metadata": {
    "collapsed": false
   },
   "outputs": [],
   "source": [
    "from utils.linked_list import LinkedList"
   ]
  },
  {
   "cell_type": "code",
   "execution_count": 43,
   "metadata": {
    "collapsed": false
   },
   "outputs": [],
   "source": [
    "# ref: https://github.com/careercup/CtCI-6th-Edition-Python/blob/e6bc732588601d0a98e5b1bc44d83644b910978d/Chapter2/1_Remove_Dups.py\n",
    "def remove_dups_1(ll):\n",
    "    if ll.head is None:\n",
    "        return\n",
    "    \n",
    "    cur = ll.head\n",
    "    seen = set([cur.val])\n",
    "    while cur.next:\n",
    "        if cur.next.val in seen:\n",
    "            cur.next = cur.next.next\n",
    "        else:\n",
    "            seen.add(cur.next.val)\n",
    "            cur = cur.next\n",
    "    return ll\n",
    "\n",
    "\n",
    "'''\n",
    "assume that there is no buffer\n",
    "'''\n",
    "def remove_dups_2(ll):\n",
    "    if ll.head is None:\n",
    "        return\n",
    "\n",
    "    current = ll.head\n",
    "    while current:\n",
    "        runner = current\n",
    "        # to check whether runner and current refer same object\n",
    "        #print('r',runner)\n",
    "        #print('c', current)\n",
    "        while runner.next:\n",
    "            #to check the flow of this loop\n",
    "            #print('r',runner.val)\n",
    "            #print('rn',runner.next.val)\n",
    "            #print('c',current.val)\n",
    "            #print(\"-----------\")\n",
    "            if runner.next.val == current.val:\n",
    "                runner.next = runner.next.next\n",
    "            else:\n",
    "                runner = runner.next\n",
    "        current = current.next\n",
    "\n",
    "    return ll.head"
   ]
  },
  {
   "cell_type": "code",
   "execution_count": 44,
   "metadata": {
    "collapsed": false
   },
   "outputs": [
    {
     "name": "stdout",
     "output_type": "stream",
     "text": [
      "=========\n",
      "1\n",
      "0\n",
      "=========\n",
      "1\n",
      "0\n",
      "0\n",
      "0\n",
      "=========\n",
      "1\n",
      "0\n"
     ]
    }
   ],
   "source": [
    "ll = LinkedList(1)\n",
    "ll.add(0)\n",
    "ll.printlist()\n",
    "\n",
    "ll.add(0)\n",
    "ll.add(0)\n",
    "ll.printlist()\n",
    "\n",
    "remove_dups_1(ll)\n",
    "ll.printlist()"
   ]
  },
  {
   "cell_type": "code",
   "execution_count": 45,
   "metadata": {
    "collapsed": false
   },
   "outputs": [
    {
     "name": "stdout",
     "output_type": "stream",
     "text": [
      "=========\n",
      "1\n",
      "2\n",
      "2\n",
      "3\n",
      "4\n",
      "=========\n",
      "1\n",
      "2\n",
      "3\n",
      "4\n"
     ]
    }
   ],
   "source": [
    "ll = LinkedList(1)\n",
    "ll.add(2)\n",
    "ll.add(2)\n",
    "ll.add(3)\n",
    "ll.add(4)\n",
    "ll.printlist()\n",
    "\n",
    "remove_dups_2(ll)\n",
    "ll.printlist()\n"
   ]
  }
 ],
 "metadata": {
  "anaconda-cloud": {},
  "kernelspec": {
   "display_name": "Python [default]",
   "language": "python",
   "name": "python3"
  },
  "language_info": {
   "codemirror_mode": {
    "name": "ipython",
    "version": 3
   },
   "file_extension": ".py",
   "mimetype": "text/x-python",
   "name": "python",
   "nbconvert_exporter": "python",
   "pygments_lexer": "ipython3",
   "version": "3.5.2"
  }
 },
 "nbformat": 4,
 "nbformat_minor": 2
}
