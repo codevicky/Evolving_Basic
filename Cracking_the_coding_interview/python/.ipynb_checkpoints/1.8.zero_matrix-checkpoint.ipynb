{
 "cells": [
  {
   "cell_type": "code",
   "execution_count": 33,
   "metadata": {
    "collapsed": true
   },
   "outputs": [],
   "source": [
    "def set_zeros(matrix):\n",
    "    row_zero = False\n",
    "    col_zero = False\n",
    "    \n",
    "    for j in range(len(matrix[0])):\n",
    "        if matrix[0][j] is 0:\n",
    "            row_zero = True\n",
    "            break\n",
    "    \n",
    "    for i in range(len(matrix)):\n",
    "        if matrix[i][0] is 0:\n",
    "            col_zero = True\n",
    "            break\n",
    "            \n",
    "    for i in range(1, len(matrix)):\n",
    "        for j in range(1, len(matrix[0])):\n",
    "            if matrix[i][j] is 0:\n",
    "                matrix[i][0] = 0\n",
    "                matrix[0][j] = 0\n",
    "    \n",
    "    for i in range(1, len(matrix)):\n",
    "        print(i)\n",
    "        if matrix[i][0] is 0:\n",
    "            nullify_row(matrix, i)\n",
    "            \n",
    "    for j in range(1, len(matrix[0])):\n",
    "        if matrix[0][j] is 0:\n",
    "            nullify_column(matrix, j)\n",
    "    \n",
    "    if row_zero:\n",
    "        nullify_row(matrix, 0)\n",
    "        \n",
    "    if col_zero:\n",
    "        nullify_column(matrix, 0)\n",
    "        \n",
    "    return matrix\n",
    "            \n",
    "def nullify_row(matrix, row):\n",
    "    for j in range(len(matrix[0])):\n",
    "        matrix[row][j] = 0;\n",
    "        \n",
    "def nullify_column(matrix, col):\n",
    "    for i in range(len(matrix)):\n",
    "        matrix[i][col] = 0;        "
   ]
  },
  {
   "cell_type": "code",
   "execution_count": 35,
   "metadata": {
    "collapsed": false
   },
   "outputs": [
    {
     "name": "stdout",
     "output_type": "stream",
     "text": [
      "1\n",
      "2\n"
     ]
    },
    {
     "data": {
      "text/plain": [
       "[[0, 2, 3, 4], [0, 0, 0, 0], [0, 5, 6, 7]]"
      ]
     },
     "execution_count": 35,
     "metadata": {},
     "output_type": "execute_result"
    }
   ],
   "source": [
    "sample = [[1,2,3,4 ], [0,1,5,4] , [4,5,6,7]]\n",
    "#sample = [[1,2,4], [0,2,5]]\n",
    "set_zeros (sample)"
   ]
  }
 ],
 "metadata": {
  "anaconda-cloud": {},
  "kernelspec": {
   "display_name": "Python [default]",
   "language": "python",
   "name": "python3"
  },
  "language_info": {
   "codemirror_mode": {
    "name": "ipython",
    "version": 3
   },
   "file_extension": ".py",
   "mimetype": "text/x-python",
   "name": "python",
   "nbconvert_exporter": "python",
   "pygments_lexer": "ipython3",
   "version": "3.5.2"
  }
 },
 "nbformat": 4,
 "nbformat_minor": 2
}
