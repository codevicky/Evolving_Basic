{
 "cells": [
  {
   "cell_type": "code",
   "execution_count": 8,
   "metadata": {
    "collapsed": true
   },
   "outputs": [],
   "source": [
    "def is_substring(big, small):\n",
    "    if small in big:\n",
    "        return True\n",
    "    else: return False\n",
    "    \n",
    "def is_rotation(s1, s2):\n",
    "    if (len(s1) == len(s2) and  len(s1) > 0):\n",
    "        s1s1 = s1 + s1\n",
    "        return is_substring(s1s1, s2)\n",
    "   \n",
    "    return False; "
   ]
  },
  {
   "cell_type": "code",
   "execution_count": 6,
   "metadata": {
    "collapsed": false
   },
   "outputs": [
    {
     "name": "stdout",
     "output_type": "stream",
     "text": [
      "True\n",
      "False\n"
     ]
    }
   ],
   "source": [
    "#True\n",
    "print(is_substring('aaab', 'ab'))\n",
    "#False\n",
    "print(is_substring('aaab', 'cab'))"
   ]
  },
  {
   "cell_type": "code",
   "execution_count": 14,
   "metadata": {
    "collapsed": false
   },
   "outputs": [
    {
     "name": "stdout",
     "output_type": "stream",
     "text": [
      "True\n",
      "False\n"
     ]
    }
   ],
   "source": [
    "#True\n",
    "print(is_rotation('aaab', 'abaa'))\n",
    "#False\n",
    "print(is_rotation('aaabc', 'abaaca'))"
   ]
  }
 ],
 "metadata": {
  "kernelspec": {
   "display_name": "Python [default]",
   "language": "python",
   "name": "python3"
  },
  "language_info": {
   "codemirror_mode": {
    "name": "ipython",
    "version": 3
   },
   "file_extension": ".py",
   "mimetype": "text/x-python",
   "name": "python",
   "nbconvert_exporter": "python",
   "pygments_lexer": "ipython3",
   "version": "3.5.2"
  }
 },
 "nbformat": 4,
 "nbformat_minor": 2
}
