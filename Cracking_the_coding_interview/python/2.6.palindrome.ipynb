{
 "cells": [
  {
   "cell_type": "code",
   "execution_count": 4,
   "metadata": {
    "collapsed": false
   },
   "outputs": [],
   "source": [
    "#ref: https://github.com/careercup/CtCI-6th-Edition-Python/blob/e6bc732588601d0a98e5b1bc44d83644b910978d/Chapter2/6_Palindrome.py\n",
    "\n",
    "from utils.linked_list import LinkedList\n",
    "\n",
    "\n",
    "def is_palindrome(ll):\n",
    "    fast = slow = ll.head\n",
    "    stack = []\n",
    "\n",
    "    while fast and fast.next:\n",
    "        stack.append(slow.value)\n",
    "        slow = slow.next\n",
    "        fast = fast.next.next\n",
    "\n",
    "    if fast:\n",
    "        slow = slow.next\n",
    "\n",
    "    while slow:\n",
    "        top = stack.pop()\n",
    "\n",
    "        if top != slow.value:\n",
    "            return False\n",
    "\n",
    "        slow = slow.next\n",
    "\n",
    "    return True\n"
   ]
  },
  {
   "cell_type": "code",
   "execution_count": 5,
   "metadata": {
    "collapsed": false
   },
   "outputs": [
    {
     "name": "stdout",
     "output_type": "stream",
     "text": [
      "True\n",
      "True\n"
     ]
    }
   ],
   "source": [
    "ll_true = LinkedList([1, 2, 3, 4, 5, 4, 3, 2, 1])\n",
    "print(is_palindrome(ll_true))\n",
    "ll_false = LinkedList([1, 2, 3, 4, 5, 6, 7, 8, 9])\n",
    "print(is_palindrome(ll_false)) # why is it true?"
   ]
  }
 ],
 "metadata": {
  "anaconda-cloud": {},
  "kernelspec": {
   "display_name": "Python [default]",
   "language": "python",
   "name": "python3"
  },
  "language_info": {
   "codemirror_mode": {
    "name": "ipython",
    "version": 3
   },
   "file_extension": ".py",
   "mimetype": "text/x-python",
   "name": "python",
   "nbconvert_exporter": "python",
   "pygments_lexer": "ipython3",
   "version": "3.5.2"
  }
 },
 "nbformat": 4,
 "nbformat_minor": 2
}
