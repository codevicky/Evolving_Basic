{
 "cells": [
  {
   "cell_type": "code",
   "execution_count": 7,
   "metadata": {
    "collapsed": true
   },
   "outputs": [],
   "source": [
    "from utils.linked_list import LinkedList"
   ]
  },
  {
   "cell_type": "code",
   "execution_count": 15,
   "metadata": {
    "collapsed": true
   },
   "outputs": [],
   "source": [
    "\n",
    "#ref: https://github.com/careercup/CtCI-6th-Edition-Python/blob/e6bc732588601d0a98e5b1bc44d83644b910978d/Chapter2/3_Delete_Middle_Node.py\n",
    "\n",
    "def delete_mid_node(node):\n",
    "    if node is None or node.next is None:\n",
    "        return False\n",
    "    \n",
    "    node.val = node.next.val\n",
    "    node.next = node.next.next\n",
    "    return True"
   ]
  },
  {
   "cell_type": "code",
   "execution_count": 22,
   "metadata": {
    "collapsed": false
   },
   "outputs": [
    {
     "name": "stdout",
     "output_type": "stream",
     "text": [
      "=========\n",
      "1\n",
      "2\n",
      "3\n",
      "4\n",
      "=========\n",
      "1\n",
      "2\n",
      "4\n",
      "=========\n",
      "1\n",
      "4\n",
      "=========\n",
      "1\n",
      "4\n"
     ]
    }
   ],
   "source": [
    "ll = LinkedList(1)\n",
    "ll.add(2)\n",
    "ll.add(3)\n",
    "ll.add(4)\n",
    "\n",
    "ll.printlist()\n",
    "\n",
    "delete_mid_node(ll.head.next.next)\n",
    "\n",
    "ll.printlist()\n",
    "\n",
    "delete_mid_node(ll.head.next)\n",
    "ll.printlist()\n",
    "\n",
    "delete_mid_node(ll.head.next.next)\n",
    "ll.printlist()"
   ]
  }
 ],
 "metadata": {
  "kernelspec": {
   "display_name": "Python [default]",
   "language": "python",
   "name": "python3"
  },
  "language_info": {
   "codemirror_mode": {
    "name": "ipython",
    "version": 3
   },
   "file_extension": ".py",
   "mimetype": "text/x-python",
   "name": "python",
   "nbconvert_exporter": "python",
   "pygments_lexer": "ipython3",
   "version": "3.5.2"
  }
 },
 "nbformat": 4,
 "nbformat_minor": 2
}
