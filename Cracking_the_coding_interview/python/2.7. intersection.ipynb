{
 "cells": [
  {
   "cell_type": "code",
   "execution_count": 2,
   "metadata": {
    "collapsed": false
   },
   "outputs": [],
   "source": [
    "#ref:https://github.com/careercup/CtCI-6th-Edition-Python/blob/e6bc732588601d0a98e5b1bc44d83644b910978d/Chapter2/7_Intersection.py\n",
    "\n",
    "from utils.linked_list import LinkedList\n",
    "\n",
    "\n",
    "def intersection(list1, list2):\n",
    "    if list1.tail is not list2.tail:\n",
    "        return False\n",
    "\n",
    "    shorter = list1 if len(list1) < len(list2) else list2\n",
    "    longer = list2 if len(list1) < len(list2) else list1\n",
    "\n",
    "    diff = len(longer) - len(shorter)\n",
    "\n",
    "    shorter_node, longer_node = shorter.head, longer.head\n",
    "\n",
    "    for i in range(diff):\n",
    "        longer_node = longer_node.next\n",
    "\n",
    "    while shorter_node is not longer_node:\n",
    "        shorter_node = shorter_node.next\n",
    "        longer_node = longer_node.next\n",
    "\n",
    "    return longer_node"
   ]
  },
  {
   "cell_type": "code",
   "execution_count": null,
   "metadata": {
    "collapsed": true
   },
   "outputs": [],
   "source": [
    "#test code should be here"
   ]
  }
 ],
 "metadata": {
  "anaconda-cloud": {},
  "kernelspec": {
   "display_name": "Python [default]",
   "language": "python",
   "name": "python3"
  },
  "language_info": {
   "codemirror_mode": {
    "name": "ipython",
    "version": 3
   },
   "file_extension": ".py",
   "mimetype": "text/x-python",
   "name": "python",
   "nbconvert_exporter": "python",
   "pygments_lexer": "ipython3",
   "version": "3.5.2"
  }
 },
 "nbformat": 4,
 "nbformat_minor": 2
}
