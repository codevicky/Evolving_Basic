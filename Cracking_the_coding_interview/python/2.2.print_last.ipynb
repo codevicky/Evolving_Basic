{
 "cells": [
  {
   "cell_type": "code",
   "execution_count": 4,
   "metadata": {
    "collapsed": false
   },
   "outputs": [],
   "source": [
    "from utils.linked_list import LinkedList"
   ]
  },
  {
   "cell_type": "code",
   "execution_count": 20,
   "metadata": {
    "collapsed": false
   },
   "outputs": [],
   "source": [
    "'''\n",
    "use recursive, Space complexity O(N)\n",
    "print the last kth item instead of return\n",
    "''' \n",
    "def print2last(head, k):\n",
    "    if head is None:\n",
    "        return 0\n",
    "    \n",
    "    index = print2last(head.next, k) + 1\n",
    "    if index == k:\n",
    "        print(k, \"th to last node is\", head.val)\n",
    "    \n",
    "    return index\n",
    "\n",
    "'''\n",
    "iterative way \n",
    "Time:O(N), Space: O(1)\n",
    "'''\n",
    "def kth2last(ll, k):\n",
    "    runner = current = ll.head\n",
    "    for i in range(k):\n",
    "        if runner is None:\n",
    "            return None\n",
    "        runner = runner.next\n",
    "\n",
    "    while runner:\n",
    "        current = current.next\n",
    "        runner = runner.next\n",
    "\n",
    "    return current.val\n",
    "\n",
    "'''\n",
    "The function to create LinkedLIst from array\n",
    "'''\n",
    "def array2ll(input):\n",
    "    cur = LinkedList(input[0])\n",
    "    for i in range(1, len(input)):\n",
    "        cur.add(input[i])\n",
    "        \n",
    "    return cur"
   ]
  },
  {
   "cell_type": "code",
   "execution_count": 24,
   "metadata": {
    "collapsed": false
   },
   "outputs": [
    {
     "name": "stdout",
     "output_type": "stream",
     "text": [
      "1 th to last node is 6\n",
      "2 th to last node is 5\n",
      "3 th to last node is 4\n",
      "4 th to last node is 3\n",
      "5 th to last node is 2\n",
      "6 th to last node is 1\n",
      "========================================\n",
      "1 th to last node is 6\n",
      "2 th to last node is 5\n",
      "3 th to last node is 4\n",
      "4 th to last node is 3\n",
      "5 th to last node is 2\n",
      "6 th to last node is 1\n"
     ]
    }
   ],
   "source": [
    "input = [0, 1, 2, 3, 4, 5, 6]\n",
    "ll = array2ll(input)\n",
    "for i in range(len(input)):\n",
    "    print2last(ll.head, i)\n",
    "\n",
    "print(\"========================================\")\n",
    "    \n",
    "for i in range(1, len(input)):\n",
    "    print(i, \"th to last node is\",kth2last(ll, i))"
   ]
  },
  {
   "cell_type": "code",
   "execution_count": null,
   "metadata": {
    "collapsed": true
   },
   "outputs": [],
   "source": []
  }
 ],
 "metadata": {
  "anaconda-cloud": {},
  "kernelspec": {
   "display_name": "Python [default]",
   "language": "python",
   "name": "python3"
  },
  "language_info": {
   "codemirror_mode": {
    "name": "ipython",
    "version": 3
   },
   "file_extension": ".py",
   "mimetype": "text/x-python",
   "name": "python",
   "nbconvert_exporter": "python",
   "pygments_lexer": "ipython3",
   "version": "3.5.2"
  }
 },
 "nbformat": 4,
 "nbformat_minor": 2
}
