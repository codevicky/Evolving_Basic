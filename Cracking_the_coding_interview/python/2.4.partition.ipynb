{
 "cells": [
  {
   "cell_type": "code",
   "execution_count": 3,
   "metadata": {
    "collapsed": false
   },
   "outputs": [],
   "source": [
    "from utils.linked_list import LinkedList2, LinkedListNode"
   ]
  },
  {
   "cell_type": "code",
   "execution_count": 6,
   "metadata": {
    "collapsed": false
   },
   "outputs": [],
   "source": [
    "#ref: https://github.com/careercup/CtCI-6th-Edition-Python/blob/e6bc732588601d0a98e5b1bc44d83644b910978d/Chapter2/4_Partition.py\n",
    "def partition(ll, x):\n",
    "    current = ll.tail = ll.head\n",
    "\n",
    "    while current:\n",
    "        nextNode = current.next\n",
    "        current.next = None\n",
    "        if current.value < x:\n",
    "            current.next = ll.head\n",
    "            ll.head = current\n",
    "        else:\n",
    "            ll.tail.next = current\n",
    "            ll.tail = current\n",
    "        current = nextNode\n",
    "        \n",
    "    # Error check in case all nodes are less than x\n",
    "    if ll.tail.next is not None:\n",
    "        ll.tail.next = None\n",
    "        \n",
    "def partition_2(node, x): #doesn't work\n",
    "    before = LinkedListNode(None)\n",
    "    after = LinkedListNode(None)\n",
    "    \n",
    "    while node is not None:\n",
    "        next = LinkedListNode(None)\n",
    "        next = node.next\n",
    "        if node.value < x :\n",
    "            node.next = before\n",
    "            before = node\n",
    "        else:\n",
    "            node.next = after\n",
    "            after = node\n",
    "        node = next\n",
    "        \n",
    "    if before is None:\n",
    "        return after\n",
    "    \n",
    "    head = LinkedListNode(None)\n",
    "    head = before\n",
    "    while before.next is not None:\n",
    "        before = before.next\n",
    "    \n",
    "    before.next = after\n",
    "    return head"
   ]
  },
  {
   "cell_type": "code",
   "execution_count": 9,
   "metadata": {
    "collapsed": false
   },
   "outputs": [
    {
     "name": "stdout",
     "output_type": "stream",
     "text": [
      "89 -> 79 -> 79 -> 38 -> 63 -> 42 -> 68 -> 49 -> 87 -> 71\n",
      "71 -> 87 -> 49 -> 68 -> 42 -> 63 -> 38 -> 79 -> 79 -> 89\n",
      "71 -> None\n"
     ]
    }
   ],
   "source": [
    "ll = LinkedList2()\n",
    "ll.generate(10,0,99)\n",
    "\n",
    "print(ll)\n",
    "partition(ll, ll.head.value)\n",
    "\n",
    "\n",
    "print(ll)\n",
    "\n",
    "partition_2(ll.head, ll.head.value)\n",
    "print(ll)"
   ]
  }
 ],
 "metadata": {
  "anaconda-cloud": {},
  "kernelspec": {
   "display_name": "Python [default]",
   "language": "python",
   "name": "python3"
  },
  "language_info": {
   "codemirror_mode": {
    "name": "ipython",
    "version": 3
   },
   "file_extension": ".py",
   "mimetype": "text/x-python",
   "name": "python",
   "nbconvert_exporter": "python",
   "pygments_lexer": "ipython3",
   "version": "3.5.2"
  }
 },
 "nbformat": 4,
 "nbformat_minor": 2
}
