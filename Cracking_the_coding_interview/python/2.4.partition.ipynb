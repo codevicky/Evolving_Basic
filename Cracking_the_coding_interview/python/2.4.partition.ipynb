{
 "cells": [
  {
   "cell_type": "code",
   "execution_count": 1,
   "metadata": {
    "collapsed": false
   },
   "outputs": [],
   "source": [
    "from utils.linked_list import LinkedList2, LinkedListNode"
   ]
  },
  {
   "cell_type": "code",
   "execution_count": 100,
   "metadata": {
    "collapsed": false
   },
   "outputs": [],
   "source": [
    "#ref: https://github.com/careercup/CtCI-6th-Edition-Python/blob/e6bc732588601d0a98e5b1bc44d83644b910978d/Chapter2/4_Partition.py\n",
    "def partition(ll, x):\n",
    "    current = ll.tail = ll.head\n",
    "\n",
    "    while current:\n",
    "        nextNode = current.next\n",
    "        current.next = None\n",
    "        if current.value < x:\n",
    "            current.next = ll.head\n",
    "            ll.head = current\n",
    "        else:\n",
    "            ll.tail.next = current\n",
    "            ll.tail = current\n",
    "        current = nextNode\n",
    "        \n",
    "    # Error check in case all nodes are less than x\n",
    "    if ll.tail.next is not None:\n",
    "        ll.tail.next = None\n",
    "   \n",
    "\n",
    "#It is different from Java\n",
    "def partition_2(ll, x): \n",
    "\n",
    "    before = None\n",
    "    after = None\n",
    "    node = ll.head\n",
    "    \n",
    "    while node is not None:\n",
    "        next = node.next\n",
    "        if node.value < x :\n",
    "            node.next = before\n",
    "            before = node\n",
    "        else:\n",
    "            node.next = after\n",
    "            after = node\n",
    "            \n",
    "        node = next\n",
    "    \n",
    "    #print(before, \"\", before.next, \"\", before.next.next)\n",
    "    #print(after, \"\", after.next, \"\", after.next.next)\n",
    "    \n",
    "    if before is None:\n",
    "        while after is not None:\n",
    "            print(after)\n",
    "            after = after.next\n",
    "        \n",
    "        return after\n",
    "    \n",
    "    \n",
    "    head = None\n",
    "    head = before\n",
    "    \n",
    "    while before.next is not None:\n",
    "        before = before.next\n",
    "        \n",
    "    before.next = after\n",
    "    \n",
    "    while head is not None:\n",
    "        print(head)\n",
    "        head = head.next\n",
    "    return head\n",
    "\n",
    "    ''' using LinkedList\n",
    "    result = LinkedList2()\n",
    "    \n",
    "    if before is None:\n",
    "        while after is not None:\n",
    "            result.add(after.value)\n",
    "            after = after.next\n",
    "        return result\n",
    "        \n",
    "    while before is not None:\n",
    "        result.add(before.value)\n",
    "        before = before.next\n",
    "    \n",
    "    while after is not None:\n",
    "        result.add(after.value)\n",
    "        after = after.next\n",
    "\n",
    "    return result\n",
    "    '''"
   ]
  },
  {
   "cell_type": "code",
   "execution_count": 103,
   "metadata": {
    "collapsed": false
   },
   "outputs": [
    {
     "name": "stdout",
     "output_type": "stream",
     "text": [
      "14 -> 20 -> 89 -> 37 -> 23 -> 45 -> 38 -> 85 -> 18 -> 69\n",
      "14 -> 20 -> 89 -> 37 -> 23 -> 45 -> 38 -> 85 -> 18 -> 69\n",
      "13 -> 67 -> 87 -> 44 -> 25 -> 31 -> 78 -> 18 -> 3 -> 14\n",
      "69\n",
      "18\n",
      "85\n",
      "38\n",
      "45\n",
      "23\n",
      "37\n",
      "89\n",
      "20\n",
      "14\n"
     ]
    }
   ],
   "source": [
    "ll = LinkedList2()\n",
    "ll.generate(10,0,99)\n",
    "\n",
    "print(ll)\n",
    "partition(ll, ll.head.value)\n",
    "print(ll)\n",
    "\n",
    "\n",
    "ll2 = LinkedList2()\n",
    "ll2.generate(10,0,99)\n",
    "print(ll2)\n",
    "partition_2(ll, ll.head.value)\n"
   ]
  },
  {
   "cell_type": "code",
   "execution_count": null,
   "metadata": {
    "collapsed": true
   },
   "outputs": [],
   "source": []
  }
 ],
 "metadata": {
  "anaconda-cloud": {},
  "kernelspec": {
   "display_name": "Python [default]",
   "language": "python",
   "name": "python3"
  },
  "language_info": {
   "codemirror_mode": {
    "name": "ipython",
    "version": 3
   },
   "file_extension": ".py",
   "mimetype": "text/x-python",
   "name": "python",
   "nbconvert_exporter": "python",
   "pygments_lexer": "ipython3",
   "version": "3.5.2"
  }
 },
 "nbformat": 4,
 "nbformat_minor": 2
}
