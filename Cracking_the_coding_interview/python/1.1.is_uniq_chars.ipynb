{
 "cells": [
  {
   "cell_type": "code",
   "execution_count": 3,
   "metadata": {
    "collapsed": false
   },
   "outputs": [],
   "source": [
    "# The 1st solution\n",
    "# reference: https://github.com/minsuk-heo/problemsolving/tree/master/Craking%20the%20Coding%20Interview\n",
    "\n",
    "\"\"\"\n",
    "return true if the string doesn't have duplicate characters\n",
    "return false if the string has duplicate character by myself. \n",
    "\"\"\"\n",
    "\n",
    "def is_uniq_chars(str):\n",
    "    # assume characters are ASCII, total 128 characters\n",
    "    # if the string is greater than 128, there is duplicate\n",
    "    if len(str) > 128:\n",
    "        return False\n",
    "    # initialize boolean array\n",
    "    hash = [False] * 128\n",
    "\n",
    "    for ch in str:\n",
    "        # if boolean array is true, then there is duplicate\n",
    "        if hash[ord(ch)] is True:\n",
    "            return False\n",
    "        # if the value in hash is False, the value is not duplicate yet\n",
    "        else:\n",
    "            hash[ord(ch)] = True\n",
    "    return True"
   ]
  },
  {
   "cell_type": "code",
   "execution_count": 5,
   "metadata": {
    "collapsed": false
   },
   "outputs": [
    {
     "data": {
      "text/plain": [
       "True"
      ]
     },
     "execution_count": 5,
     "metadata": {},
     "output_type": "execute_result"
    }
   ],
   "source": [
    "is_uniq_chars(\"laksj\")"
   ]
  }
 ],
 "metadata": {
  "anaconda-cloud": {},
  "kernelspec": {
   "display_name": "Python [default]",
   "language": "python",
   "name": "python3"
  },
  "language_info": {
   "codemirror_mode": {
    "name": "ipython",
    "version": 3
   },
   "file_extension": ".py",
   "mimetype": "text/x-python",
   "name": "python",
   "nbconvert_exporter": "python",
   "pygments_lexer": "ipython3",
   "version": "3.5.2"
  }
 },
 "nbformat": 4,
 "nbformat_minor": 2
}
