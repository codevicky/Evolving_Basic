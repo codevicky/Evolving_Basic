{
 "cells": [
  {
   "cell_type": "code",
   "execution_count": 5,
   "metadata": {
    "collapsed": false
   },
   "outputs": [],
   "source": [
    "\n",
    "def one_edit_check(s_1, s_2):\n",
    "    #assume that characters are all lower_case\n",
    "    if abs(len(s_1)-len(s_2)) > 1:\n",
    "        return False\n",
    "    table = [0 for _ in range(ord('z') - ord('a'))]\n",
    "    \n",
    "    check_sum = 0\n",
    "    \n",
    "    for c_1 in s_1:\n",
    "        table[ord(c_1) - ord('a')] += 1\n",
    "    \n",
    "    for c_2 in s_2:\n",
    "        table[ord(c_2) - ord('a')] -= 1\n",
    "    \n",
    "    for t in table:\n",
    "        check_sum += abs(t)\n",
    "        if t > 1:\n",
    "            return False\n",
    "        \n",
    "    return True\n",
    "        \n"
   ]
  },
  {
   "cell_type": "code",
   "execution_count": 12,
   "metadata": {
    "collapsed": false
   },
   "outputs": [
    {
     "data": {
      "text/plain": [
       "False"
      ]
     },
     "execution_count": 12,
     "metadata": {},
     "output_type": "execute_result"
    }
   ],
   "source": [
    "one_edit_check('slmkl', 'slk')"
   ]
  },
  {
   "cell_type": "code",
   "execution_count": 14,
   "metadata": {
    "collapsed": true
   },
   "outputs": [],
   "source": [
    "#ref: https://github.com/careercup/CtCI-6th-Edition-Python/blob/e6bc732588601d0a98e5b1bc44d83644b910978d/Chapter1/5_One%20Away/OneAway.py\n",
    "\n",
    "def one_edit_check_2(s1, s2):\n",
    "    '''Check if a string can converted to another string with a single edit'''\n",
    "    if len(s1) == len(s2):\n",
    "        return one_deit_replace(s1, s2)\n",
    "    elif len(s1) + 1 == len(s2):\n",
    "        return one_edit_insert(s1, s2)\n",
    "    elif len(s1) - 1 == len(s2):\n",
    "        return one_edit_insert(s2, s1)\n",
    "    return False\n",
    "\n",
    "def one_edit_replace(s1, s2):\n",
    "    edited = False\n",
    "    for c1, c2 in zip(s1, s2):\n",
    "        if c1 != c2:\n",
    "            if edited:\n",
    "                return False\n",
    "            edited = True\n",
    "    return True\n",
    "\n",
    "def one_edit_insert(s1, s2):\n",
    "    edited = False\n",
    "    i, j = 0, 0\n",
    "    while i < len(s1) and j < len(s2):\n",
    "        if s1[i] != s2[j]:\n",
    "            if edited:\n",
    "                return False;\n",
    "            edited = True\n",
    "            j += 1\n",
    "        else:\n",
    "            i += 1\n",
    "            j += 1\n",
    "    return True\n"
   ]
  },
  {
   "cell_type": "code",
   "execution_count": 16,
   "metadata": {
    "collapsed": false
   },
   "outputs": [
    {
     "data": {
      "text/plain": [
       "False"
      ]
     },
     "execution_count": 16,
     "metadata": {},
     "output_type": "execute_result"
    }
   ],
   "source": [
    "one_edit_check_2('pale', 'ple')"
   ]
  },
  {
   "cell_type": "code",
   "execution_count": 24,
   "metadata": {
    "collapsed": true
   },
   "outputs": [],
   "source": [
    "def one_edit_check_2(s1, s2):\n",
    "    if abs(len(s1)-len(s2)) > 1:\n",
    "        return False\n",
    "    \n",
    "    if len(s1) < len(s2):\n",
    "        s_short = s1\n",
    "        s_long = s2\n",
    "    else:\n",
    "        s_short = s2\n",
    "        s_long = s1\n",
    "        \n",
    "    idx1 = 0;\n",
    "    idx2 = 0;\n",
    "    diff = False;\n",
    "    \n",
    "    while idx1 < len(s_short) and idx2 < len(s_long):\n",
    "        if s_short[idx1] != s_long[idx2]:\n",
    "            if diff:\n",
    "                return False\n",
    "            diff = True\n",
    "            if len(s_short) == len(s_long):\n",
    "                idx1 += 1\n",
    "        else:\n",
    "            idx1 += 1\n",
    "        idx2 += 1\n",
    "    \n",
    "    return True\n"
   ]
  },
  {
   "cell_type": "code",
   "execution_count": 25,
   "metadata": {
    "collapsed": false
   },
   "outputs": [
    {
     "data": {
      "text/plain": [
       "False"
      ]
     },
     "execution_count": 25,
     "metadata": {},
     "output_type": "execute_result"
    }
   ],
   "source": [
    "one_edit_check_2('sddlk', 'slk')"
   ]
  }
 ],
 "metadata": {
  "anaconda-cloud": {},
  "kernelspec": {
   "display_name": "Python [default]",
   "language": "python",
   "name": "python3"
  },
  "language_info": {
   "codemirror_mode": {
    "name": "ipython",
    "version": 3
   },
   "file_extension": ".py",
   "mimetype": "text/x-python",
   "name": "python",
   "nbconvert_exporter": "python",
   "pygments_lexer": "ipython3",
   "version": "3.5.2"
  }
 },
 "nbformat": 4,
 "nbformat_minor": 2
}
