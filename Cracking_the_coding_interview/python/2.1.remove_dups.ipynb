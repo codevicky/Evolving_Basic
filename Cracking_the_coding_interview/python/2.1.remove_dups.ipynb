{
 "cells": [
  {
   "cell_type": "code",
   "execution_count": 12,
   "metadata": {
    "collapsed": false
   },
   "outputs": [],
   "source": [
    "import sys\n",
    "#In Evolving_Basic/Data_Structure/Source Code/Python, there is linked_list.py\n",
    "sys.path.insert(0, 'C:\\\\Github\\\\Evolving_Basic\\\\Data_Structure\\\\Source Code\\\\Python')\n",
    "\n",
    "\n",
    "from linked_list import LinkedList"
   ]
  },
  {
   "cell_type": "code",
   "execution_count": 19,
   "metadata": {
    "collapsed": true
   },
   "outputs": [],
   "source": [
    "# ref: https://github.com/careercup/CtCI-6th-Edition-Python/blob/e6bc732588601d0a98e5b1bc44d83644b910978d/Chapter2/1_Remove_Dups.py\n",
    "def remove_dups_1(ll):\n",
    "    if ll.head is None:\n",
    "        return\n",
    "    \n",
    "    cur = ll.head\n",
    "    seen = set([cur.val])\n",
    "    while cur.next:\n",
    "        if cur.next.val in seen:\n",
    "            cur.next = cur.next.next\n",
    "        else:\n",
    "            seen.add(cur.next.val)\n",
    "            cur = cur.next\n",
    "    return ll"
   ]
  },
  {
   "cell_type": "code",
   "execution_count": 20,
   "metadata": {
    "collapsed": false
   },
   "outputs": [
    {
     "name": "stdout",
     "output_type": "stream",
     "text": [
      "=========\n",
      "1\n",
      "0\n",
      "=========\n",
      "1\n",
      "0\n",
      "0\n",
      "0\n",
      "=========\n",
      "1\n",
      "0\n"
     ]
    }
   ],
   "source": [
    "ll = LinkedList(1)\n",
    "ll.add(0)\n",
    "ll.printlist()\n",
    "\n",
    "ll.add(0)\n",
    "ll.add(0)\n",
    "ll.printlist()\n",
    "\n",
    "remove_dups_1(ll)\n",
    "ll.printlist()"
   ]
  }
 ],
 "metadata": {
  "anaconda-cloud": {},
  "kernelspec": {
   "display_name": "Python [default]",
   "language": "python",
   "name": "python3"
  },
  "language_info": {
   "codemirror_mode": {
    "name": "ipython",
    "version": 3
   },
   "file_extension": ".py",
   "mimetype": "text/x-python",
   "name": "python",
   "nbconvert_exporter": "python",
   "pygments_lexer": "ipython3",
   "version": "3.5.2"
  }
 },
 "nbformat": 4,
 "nbformat_minor": 2
}
