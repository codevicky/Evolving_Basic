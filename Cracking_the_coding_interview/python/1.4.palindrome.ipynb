{
 "cells": [
  {
   "cell_type": "code",
   "execution_count": 5,
   "metadata": {
    "collapsed": false
   },
   "outputs": [],
   "source": [
    "#ref: https://github.com/careercup/CtCI-6th-Edition-Python/blob/e6bc732588601d0a98e5b1bc44d83644b910978d/Chapter1/4_Palindrome%20Permutation/PalindromePermutation.py\n",
    "# O(N)\n",
    "\n",
    "def pal_perm_1(phrase):\n",
    "    table = [0 for _ in range(ord('z') - ord('a') +1)]\n",
    "    countodd = 0\n",
    "    for c in phrase:\n",
    "        x = char_number(c)\n",
    "        if x != -1:\n",
    "            table[x] += 1\n",
    "            if table[x] % 2:\n",
    "                countodd += 1\n",
    "            else:\n",
    "                countodd -=1\n",
    "                \n",
    "    return countodd <= 1\n",
    "\n",
    "def char_number(c):\n",
    "    a = ord('a')\n",
    "    z = ord('z')\n",
    "    A = ord('A')\n",
    "    Z = ord('Z')\n",
    "    val = ord(c)\n",
    "    \n",
    "    if a <= val <= z:\n",
    "        return val - a\n",
    "    elif A <= val <= Z:\n",
    "        return val - A\n",
    "    \n",
    "    return -1\n"
   ]
  },
  {
   "cell_type": "code",
   "execution_count": 7,
   "metadata": {
    "collapsed": false
   },
   "outputs": [
    {
     "name": "stdout",
     "output_type": "stream",
     "text": [
      "False\n",
      "True\n"
     ]
    }
   ],
   "source": [
    "print(pal_perm_1('Random Words'))\n",
    "print(pal_perm_1('RaaR'))"
   ]
  },
  {
   "cell_type": "code",
   "execution_count": 28,
   "metadata": {
    "collapsed": false
   },
   "outputs": [
    {
     "name": "stdout",
     "output_type": "stream",
     "text": [
      "65\n"
     ]
    }
   ],
   "source": [
    "print(ord('A'))"
   ]
  }
 ],
 "metadata": {
  "anaconda-cloud": {},
  "kernelspec": {
   "display_name": "Python [default]",
   "language": "python",
   "name": "python3"
  },
  "language_info": {
   "codemirror_mode": {
    "name": "ipython",
    "version": 3
   },
   "file_extension": ".py",
   "mimetype": "text/x-python",
   "name": "python",
   "nbconvert_exporter": "python",
   "pygments_lexer": "ipython3",
   "version": "3.5.2"
  }
 },
 "nbformat": 4,
 "nbformat_minor": 2
}
