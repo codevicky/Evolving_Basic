{
 "cells": [
  {
   "cell_type": "code",
   "execution_count": 28,
   "metadata": {
    "collapsed": true
   },
   "outputs": [],
   "source": [
    "# O(N^2)\n",
    "def rotate_90(matrix):\n",
    "    if len(matrix) is 0 or len(matrix) is not len(matrix[0]):\n",
    "        return False;\n",
    "    l = len(matrix)\n",
    "    \n",
    "    for layer in range(l//2):\n",
    "        first = layer\n",
    "        last = l - 1 - layer;\n",
    "        i = first\n",
    "        while i < last:\n",
    "            offset = i - first\n",
    "            top = matrix[first][i]\n",
    "            \n",
    "            matrix[first][i] = matrix[last-offset][first]\n",
    "            matrix[last-offset][first] = matrix[last][last-offset]\n",
    "            matrix[last][last-offset] = matrix[i][last]\n",
    "            matrix[i][last] = top;\n",
    "            \n",
    "            i += 1\n",
    "    return matrix"
   ]
  },
  {
   "cell_type": "code",
   "execution_count": 29,
   "metadata": {
    "collapsed": false
   },
   "outputs": [
    {
     "data": {
      "text/plain": [
       "[[10, 6, 3, 1], [11, 7, 4, 2], [12, 8, 5, 3], [13, 9, 6, 4]]"
      ]
     },
     "execution_count": 29,
     "metadata": {},
     "output_type": "execute_result"
    }
   ],
   "source": [
    "matrix = [ [1, 2, 3, 4], [3, 4, 5, 6] , [6, 7, 8, 9], [10, 11, 12, 13] ]\n",
    "rotate_90 (matrix)"
   ]
  },
  {
   "cell_type": "code",
   "execution_count": 30,
   "metadata": {
    "collapsed": true
   },
   "outputs": [],
   "source": [
    "#ref: https://github.com/careercup/CtCI-6th-Edition-Python/blob/e6bc732588601d0a98e5b1bc44d83644b910978d/Chapter1/7_Rotate%20Matrix/RotateMatrix.py\n",
    "\n",
    "def rotate_matrix(matrix):\n",
    "    '''rotates a matrix 90 degrees clockwise'''\n",
    "    n = len(matrix)\n",
    "    for layer in range(n // 2):\n",
    "        first, last = layer, n - layer - 1\n",
    "        for i in range(first, last):\n",
    "            # save top\n",
    "            top = matrix[layer][i]\n",
    "\n",
    "            # left -> top\n",
    "            matrix[layer][i] = matrix[-i - 1][layer]\n",
    "\n",
    "            # bottom -> left\n",
    "            matrix[-i - 1][layer] = matrix[-layer - 1][-i - 1]\n",
    "\n",
    "            # right -> bottom\n",
    "            matrix[-layer - 1][-i - 1] = matrix[i][- layer - 1]\n",
    "\n",
    "            # top -> right\n",
    "            matrix[i][- layer - 1] = top\n",
    "    return matrix"
   ]
  },
  {
   "cell_type": "code",
   "execution_count": 31,
   "metadata": {
    "collapsed": false
   },
   "outputs": [
    {
     "data": {
      "text/plain": [
       "[[13, 12, 11, 10], [9, 8, 7, 6], [6, 5, 4, 3], [4, 3, 2, 1]]"
      ]
     },
     "execution_count": 31,
     "metadata": {},
     "output_type": "execute_result"
    }
   ],
   "source": [
    "matrix_1 = [ [1, 2, 3, 4], [3, 4, 5, 6] , [6, 7, 8, 9], [10, 11, 12, 13] ]\n",
    "rotate_matrix(matrix)"
   ]
  },
  {
   "cell_type": "code",
   "execution_count": 1,
   "metadata": {
    "collapsed": true
   },
   "outputs": [],
   "source": [
    "matrix = [[1,2,3], [2,3,4]]"
   ]
  },
  {
   "cell_type": "code",
   "execution_count": 3,
   "metadata": {
    "collapsed": false
   },
   "outputs": [
    {
     "name": "stdout",
     "output_type": "stream",
     "text": [
      "2\n",
      "3\n"
     ]
    }
   ],
   "source": [
    "print(len(matrix)) # 행\n",
    "print(len(matrix[0])) # 열"
   ]
  }
 ],
 "metadata": {
  "kernelspec": {
   "display_name": "Python [default]",
   "language": "python",
   "name": "python3"
  },
  "language_info": {
   "codemirror_mode": {
    "name": "ipython",
    "version": 3
   },
   "file_extension": ".py",
   "mimetype": "text/x-python",
   "name": "python",
   "nbconvert_exporter": "python",
   "pygments_lexer": "ipython3",
   "version": "3.5.2"
  }
 },
 "nbformat": 4,
 "nbformat_minor": 2
}
