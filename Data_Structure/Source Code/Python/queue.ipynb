{
 "cells": [
  {
   "cell_type": "code",
   "execution_count": null,
   "metadata": {
    "collapsed": true
   },
   "outputs": [],
   "source": [
    "# ref: https://github.com/minsuk-heo/problemsolving/blob/master/data_structure/Queue.py\n",
    "\n",
    "class Queue:\n",
    "\n",
    "    def __init__(self):\n",
    "        self.items = []\n",
    "\n",
    "    def enqueue(self, item):\n",
    "        self.items.insert(0, item)\n",
    "\n",
    "    def dequeue(self):\n",
    "        self.items.pop()\n",
    "\n",
    "    def print_queue(self):\n",
    "        print(self.items)\n",
    "\n",
    "    def is_empty(self):\n",
    "        return self.items == []\n",
    "\n",
    "    def size(self):\n",
    "        return len(self.items)\n",
    "\n",
    "class QueueTest(unittest.TestCase):\n",
    "    def test(self):\n",
    "        queue = Queue()\n",
    "        self.assertTrue(queue.is_empty())\n",
    "        queue.enqueue(1)\n",
    "        self.assertEqual(queue.size(),1)\n",
    "        queue.enqueue(2)\n",
    "        self.assertEqual(queue.size(),2)\n",
    "        queue.print_queue()\n",
    "        queue.dequeue()\n",
    "        self.assertEqual(queue.size(),1)\n",
    "        queue.print_queue()\n",
    "self.assertFalse(queue.is_empty())"
   ]
  }
 ],
 "metadata": {
  "anaconda-cloud": {},
  "kernelspec": {
   "display_name": "Python [default]",
   "language": "python",
   "name": "python3"
  },
  "language_info": {
   "codemirror_mode": {
    "name": "ipython",
    "version": 3
   },
   "file_extension": ".py",
   "mimetype": "text/x-python",
   "name": "python",
   "nbconvert_exporter": "python",
   "pygments_lexer": "ipython3",
   "version": "3.5.2"
  }
 },
 "nbformat": 4,
 "nbformat_minor": 2
}
