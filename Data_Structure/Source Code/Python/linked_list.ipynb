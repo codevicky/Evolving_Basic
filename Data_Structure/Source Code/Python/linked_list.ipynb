{
 "cells": [
  {
   "cell_type": "code",
   "execution_count": 41,
   "metadata": {
    "collapsed": false
   },
   "outputs": [
    {
     "name": "stderr",
     "output_type": "stream",
     "text": [
      "."
     ]
    },
    {
     "name": "stdout",
     "output_type": "stream",
     "text": [
      "5\n",
      "6\n",
      "7\n"
     ]
    },
    {
     "name": "stderr",
     "output_type": "stream",
     "text": [
      "\n",
      "----------------------------------------------------------------------\n",
      "Ran 1 test in 0.002s\n",
      "\n",
      "OK\n"
     ]
    }
   ],
   "source": [
    "# reference: https://github.com/minsuk-heo/problemsolving/blob/master/data_structure/LinkedList.py\n",
    "# reference: http://doorbw.tistory.com/117\n",
    "import unittest\n",
    "\n",
    "class Node:\n",
    "    def __init__(self, item):\n",
    "        self.val = item\n",
    "        self.next = None\n",
    "\n",
    "class LinkedList:\n",
    "    def __init__(self, item):\n",
    "        self.head = Node(item)\n",
    "\n",
    "    def add(self, item):\n",
    "        cur = self.head\n",
    "        while cur.next is not None:\n",
    "            cur = cur.next\n",
    "        cur.next = Node(item)\n",
    "\n",
    "    def remove(self, item):\n",
    "        if self.head.val == item:\n",
    "            self.head = self.head.next\n",
    "        else:\n",
    "            cur = self.head\n",
    "            while cur.next is not None:\n",
    "                if cur.val == item:\n",
    "                    self.removeItem(item)\n",
    "                    return\n",
    "                cur = cur.next\n",
    "            print(\"item does not exist in linked list\")\n",
    "\n",
    "    def removeItem(self, item):\n",
    "        cur = self.head\n",
    "        while cur.next is not None:\n",
    "            if cur.next.val == item:\n",
    "                nextnode = cur.next.next\n",
    "                cur.next = nextnode\n",
    "                break\n",
    "\n",
    "    def reverse(self):\n",
    "        prev = None\n",
    "        cur = self.head\n",
    "        while cur is not None:\n",
    "            next = cur.next\n",
    "            cur.next = prev\n",
    "            prev = cur\n",
    "            cur = next\n",
    "        self.head = prev\n",
    "\n",
    "    def printlist(self):\n",
    "        cur = self.head\n",
    "        while cur is not None:\n",
    "            print(cur.val)\n",
    "            cur = cur.next\n",
    "\n",
    "\n",
    "class LinkedListTest(unittest.TestCase):\n",
    "    def test(self):\n",
    "        ll = LinkedList(3)\n",
    "        self.assertEqual(ll.head.val, 3)\n",
    "        ll.add(4)\n",
    "        self.assertEqual(ll.head.next.val, 4)\n",
    "        ll.add(5)\n",
    "        self.assertEqual(ll.head.next.next.val, 5)\n",
    "        ll.remove(3)\n",
    "        self.assertEqual(ll.head.val, 4)\n",
    "        ll.remove(4)\n",
    "        self.assertEqual(ll.head.val, 5)\n",
    "        ll.add(6)\n",
    "        self.assertEqual(ll.head.next.val, 6)\n",
    "        ll.add(7)\n",
    "        self.assertEqual(ll.head.next.next.val, 7)\n",
    "        ll.printlist()\n",
    "        ll.remove(6)\n",
    "        self.assertEqual(ll.head.next.val, 7)\n",
    "\n",
    "        ll2 = LinkedList(9)\n",
    "        ll2.add(8)\n",
    "        ll2.add(7)\n",
    "        ll2.reverse()\n",
    "        self.assertEqual(ll2.head.val, 7)\n",
    "        self.assertEqual(ll2.head.next.val, 8)\n",
    "\n",
    "        \n",
    "if __name__ == '__main__':\n",
    "    unittest.main(argv=['first-arg-is-ignored'], exit=False)"
   ]
  }
 ],
 "metadata": {
  "anaconda-cloud": {},
  "kernelspec": {
   "display_name": "Python [default]",
   "language": "python",
   "name": "python3"
  },
  "language_info": {
   "codemirror_mode": {
    "name": "ipython",
    "version": 3
   },
   "file_extension": ".py",
   "mimetype": "text/x-python",
   "name": "python",
   "nbconvert_exporter": "python",
   "pygments_lexer": "ipython3",
   "version": "3.5.2"
  }
 },
 "nbformat": 4,
 "nbformat_minor": 2
}
