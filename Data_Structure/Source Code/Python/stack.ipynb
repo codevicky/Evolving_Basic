{
 "cells": [
  {
   "cell_type": "code",
   "execution_count": null,
   "metadata": {
    "collapsed": true
   },
   "outputs": [],
   "source": [
    "class Stack:\n",
    "    def __init__(self):\n",
    "        self.items = []\n",
    "        self.max = 5\n",
    "\n",
    "    def push(self, item):\n",
    "        if len(self.items) < 5:\n",
    "            self.items.append(item)\n",
    "        else:\n",
    "            print(\"abort push in order to prevent stack overflow\")\n",
    "\n",
    "    def pop(self):\n",
    "        if len(self.items) > 0:\n",
    "            self.items.pop()\n",
    "        else:\n",
    "            print(\"stack is empty, abort pop to prevent stack underflow\")\n",
    "\n",
    "    def print_stack(self):\n",
    "        print(self.items)\n",
    "\n",
    "    def peek(self):\n",
    "        return self.items[len(self.items)-1]\n",
    "\n",
    "    def is_empty(self):\n",
    "        return self.items == []\n",
    "\n",
    "    def size(self):\n",
    "        return len(self.items)\n",
    "\n",
    "\n",
    "class StackTest(unittest.TestCase):\n",
    "    def test(self):\n",
    "        st = Stack()\n",
    "        self.assertTrue(st.is_empty())\n",
    "        self.assertEqual(st.size(), 0)\n",
    "        st.push(1)\n",
    "        st.push(2)\n",
    "        st.print_stack()\n",
    "        st.pop()\n",
    "        st.print_stack()\n",
    "        st.push(3)\n",
    "        self.assertEquals(st.peek(),3)\n",
    "        self.assertFalse(st.is_empty())\n",
    "        self.assertEqual(st.size(), 2)\n",
    "        st.pop()\n",
    "        st.pop()\n",
    "        st.pop()\n",
    "        st.push(3)\n",
    "        st.push(3)\n",
    "        st.push(3)\n",
    "        st.push(3)\n",
    "        st.push(3)\n",
    "        st.push(3)\n"
   ]
  }
 ],
 "metadata": {
  "anaconda-cloud": {},
  "kernelspec": {
   "display_name": "Python [default]",
   "language": "python",
   "name": "python3"
  },
  "language_info": {
   "codemirror_mode": {
    "name": "ipython",
    "version": 3
   },
   "file_extension": ".py",
   "mimetype": "text/x-python",
   "name": "python",
   "nbconvert_exporter": "python",
   "pygments_lexer": "ipython3",
   "version": "3.5.2"
  }
 },
 "nbformat": 4,
 "nbformat_minor": 2
}
