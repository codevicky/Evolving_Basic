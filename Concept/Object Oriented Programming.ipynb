{
 "cells": [
  {
   "cell_type": "markdown",
   "metadata": {},
   "source": [
    "ref: https://www.youtube.com/watch?v=P3bB2li8IXE&index=1&list=PLVNY1HnUlO25sSWDr7CzVvkOF3bUgkiQQobjec\n",
    "\n",
    "## 1. Class\n",
    "\n",
    "A claas is a template that defines what an object's fields and methods will be."
   ]
  },
  {
   "cell_type": "markdown",
   "metadata": {
    "collapsed": true
   },
   "source": [
    "### java\n",
    "class Car{\n",
    "\n",
    "    private String model;\n",
    "    private int year;\n",
    "    \n",
    "    public String getModel() {\n",
    "        return model;\n",
    "    }\n",
    "    \n",
    "    public void setModel(String model) {\n",
    "        this.model = model;\n",
    "    }\n",
    "    \n",
    "    public int getYear() {\n",
    "        return year;\n",
    "    }\n",
    "    \n",
    "    public void setYear(int year) {\n",
    "        this.year = year;\n",
    "    }\n",
    "    \n",
    "    void pringDescription(){\n",
    "        System.out.println(\"this is a car\");\n",
    "    }\n",
    "    \n",
    "}"
   ]
  },
  {
   "cell_type": "code",
   "execution_count": null,
   "metadata": {
    "collapsed": true
   },
   "outputs": [],
   "source": [
    "#Python example has to be added"
   ]
  },
  {
   "cell_type": "markdown",
   "metadata": {},
   "source": [
    "## 2. Object\n",
    "An instance of a class"
   ]
  },
  {
   "cell_type": "markdown",
   "metadata": {},
   "source": [
    "### java\n",
    "\n",
    "public class YourProgram {\n",
    "\n",
    "    public static void main(String[] args){\n",
    "    \n",
    "        Car camry = new Car();  //here we instantiate Car class to camry objet\n",
    "        camry.setModel(\"camry\");\n",
    "        camry.setYear(2008);\n",
    "}\n",
    "        "
   ]
  },
  {
   "cell_type": "markdown",
   "metadata": {},
   "source": [
    "## 3. Encapsulation\n",
    "Provides the security that keeps data and method safe from inadvertent changes"
   ]
  },
  {
   "cell_type": "markdown",
   "metadata": {},
   "source": [
    "## 4. Inheritance\n",
    "Parant-Child relationship of class which is mainly used for code reusability"
   ]
  },
  {
   "cell_type": "markdown",
   "metadata": {},
   "source": [
    "### java\n",
    "\n",
    "public class Tesla extends Car{\n",
    "\n",
    "    void printDescription(){\n",
    "        System.out.println(\"this is an electric car\");\n",
    "    }\n",
    "    \n",
    "    void printDescription(String param){\n",
    "        System.out.println(\"this is a electric car, year: \"\n",
    "                            + super.getYear() + \", model\"\n",
    "                            + super.getModel() + \".\");\n",
    "    }\n",
    "    \n",
    "}\n",
    "\n",
    "\n",
    "public class YourProgram {\n",
    "\n",
    "    public static void main(String[] args){\n",
    "    \n",
    "        Tesla modelX = new Tesla(); //here we instantiate Tesla class to telsa object\n",
    "        modelX.setModel(\"model X\"); //inheritance example\n",
    "        modelX.setYear(2017); //inheritance example\n",
    "     }\n",
    "     \n",
    "}"
   ]
  },
  {
   "cell_type": "markdown",
   "metadata": {},
   "source": [
    "## 5. Polymorphism\n",
    "Methods having same name works differently in different context. (overloading, overriding)"
   ]
  },
  {
   "cell_type": "markdown",
   "metadata": {},
   "source": [
    "### java\n",
    "\n",
    "public class YourProgram {\n",
    "\n",
    "    public static void main(String[] args){\n",
    "    \n",
    "        Car camry = new Car();  //here we instantiate Car class to camry objet\n",
    "        camry.setModel(\"camry\");\n",
    "        camry.setYear(2008);\n",
    "        \n",
    "        Tesla modelX = new Tesla(); //here we instantiate Tesla class to telsa object\n",
    "        modelX.setModel(\"model X\"); //inheritance example\n",
    "        modelX.setYear(2017); //inheritance example\n",
    "        \n",
    "        camry.printDescription(); //overriding example\n",
    "        modelX.printDescription(); //overlding example\n",
    "        \n",
    "        modelX.printDescription(); //overloading exmamle\n",
    "     }\n",
    "     \n",
    "}"
   ]
  },
  {
   "cell_type": "markdown",
   "metadata": {},
   "source": [
    "## 6. Abstraction\n",
    "An abstract class is something which is incomplete and you can not create instance of abstract class.\n",
    "If you want to use it you need to make it complete or concrete by extending it.\n"
   ]
  },
  {
   "cell_type": "markdown",
   "metadata": {},
   "source": [
    "### java\n",
    "\n",
    "public abstract class Abstract_car{\n",
    "    \n",
    "    public abstract void start();\n",
    "    public abstract void stop();\n",
    "    \n",
    "}\n",
    "\n",
    "\n",
    "public class GasCar extends Abstract_Car{\n",
    "\n",
    "    @Override\n",
    "    public void start() {\n",
    "        System.out.println(\"start Gas Engine\");\n",
    "    }\n",
    "    \n",
    "    @Override\n",
    "    public void stop() {\n",
    "        System.out.println(\"stop Gas Engine\");\n",
    "    }\n",
    "}\n",
    "\n",
    "\n",
    "public class Telsa_v2 extends Abstract_Car {\n",
    "    \n",
    "    @Override\n",
    "    public void start() {\n",
    "        System.out.println(\"start Electric Engine\");\n",
    "    }\n",
    "    \n",
    "    @Override\n",
    "    public void stop() {\n",
    "        System.out.println(\"stop Electric Engine\");\n",
    "    }\n",
    "}"
   ]
  }
 ],
 "metadata": {
  "anaconda-cloud": {},
  "kernelspec": {
   "display_name": "Python [default]",
   "language": "python",
   "name": "python3"
  },
  "language_info": {
   "codemirror_mode": {
    "name": "ipython",
    "version": 3
   },
   "file_extension": ".py",
   "mimetype": "text/x-python",
   "name": "python",
   "nbconvert_exporter": "python",
   "pygments_lexer": "ipython3",
   "version": "3.5.2"
  }
 },
 "nbformat": 4,
 "nbformat_minor": 2
}
