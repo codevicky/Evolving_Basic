{
 "cells": [
  {
   "cell_type": "markdown",
   "metadata": {},
   "source": [
    "ref: https://www.youtube.com/watch?v=P3bB2li8IXE&index=1&list=PLVNY1HnUlO25sSWDr7CzVvkOF3bUgkiQQobjec\n",
    "\n",
    "## 1. Class\n",
    "\n",
    "A claas is a template that defines what an object's fields and methods will be."
   ]
  },
  {
   "cell_type": "code",
   "execution_count": 1,
   "metadata": {
    "collapsed": true
   },
   "outputs": [],
   "source": [
    "#Java example has to be added\n",
    "#Python example has to be added"
   ]
  },
  {
   "cell_type": "markdown",
   "metadata": {},
   "source": [
    "## 2. Object\n",
    "An instance of a class"
   ]
  },
  {
   "cell_type": "markdown",
   "metadata": {},
   "source": [
    "## 3. Encapsulation\n",
    "Provides the security that keeps data and method safe from inadvertent changes"
   ]
  },
  {
   "cell_type": "markdown",
   "metadata": {},
   "source": [
    "## 4. Inheritance\n",
    "Parant-Child relationship of class which is mainly used for code reusability"
   ]
  },
  {
   "cell_type": "markdown",
   "metadata": {},
   "source": [
    "## 5. Polymorphism\n",
    "Methods having same name works differently in different context. (overloading, overriding)"
   ]
  },
  {
   "cell_type": "markdown",
   "metadata": {},
   "source": [
    "## 6. Abstraction\n",
    "An abstract class is something which is incomplete and you can not create instance of abstract class.\n",
    "If you want to use it you need to make it complete or concrete by extending it.\n"
   ]
  }
 ],
 "metadata": {
  "anaconda-cloud": {},
  "kernelspec": {
   "display_name": "Python [default]",
   "language": "python",
   "name": "python3"
  },
  "language_info": {
   "codemirror_mode": {
    "name": "ipython",
    "version": 3
   },
   "file_extension": ".py",
   "mimetype": "text/x-python",
   "name": "python",
   "nbconvert_exporter": "python",
   "pygments_lexer": "ipython3",
   "version": "3.5.2"
  }
 },
 "nbformat": 4,
 "nbformat_minor": 2
}
