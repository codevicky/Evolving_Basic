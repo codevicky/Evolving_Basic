{
 "cells": [
  {
   "cell_type": "markdown",
   "metadata": {},
   "source": [
    "https://www.youtube.com/watch?v=NLKQEOgBAnw"
   ]
  },
  {
   "cell_type": "markdown",
   "metadata": {},
   "source": [
    "* Binary(negative)\n",
    "![title](img/bit_1.png)\n",
    "  - 음수로 바꿀 때는 양수의 반대값을 취한 후 1을 더해준다.\n",
    "  - 맨 앞의 0과 1은 +, - 기호를 나타내는 데 쓰임\n",
    "\n",
    "\n",
    "\n",
    "* Shift\n",
    "![title](img/bit_2.png)\n",
    "  - left shift; << (2배 커짐)\n",
    "  - right shift; >> (2배 작아짐)\n",
    "  \n",
    "![title](img/bit_3.png)\n",
    "  - logial shift\n",
    "  - arithmetic shift (logical shift와 같지만 맨 앞의 부호 유지)\n",
    "\n",
    "* Mask\n",
    "![title](img/bit_4.png)\n"
   ]
  }
 ],
 "metadata": {
  "anaconda-cloud": {},
  "kernelspec": {
   "display_name": "Python [default]",
   "language": "python",
   "name": "python3"
  },
  "language_info": {
   "codemirror_mode": {
    "name": "ipython",
    "version": 3
   },
   "file_extension": ".py",
   "mimetype": "text/x-python",
   "name": "python",
   "nbconvert_exporter": "python",
   "pygments_lexer": "ipython3",
   "version": "3.5.2"
  }
 },
 "nbformat": 4,
 "nbformat_minor": 2
}
