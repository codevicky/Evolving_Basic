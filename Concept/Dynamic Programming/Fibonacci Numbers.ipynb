{
 "cells": [
  {
   "cell_type": "markdown",
   "metadata": {
    "collapsed": true
   },
   "source": [
    " 정수 n 이 주어졌을 때 n 번째 피보나치 수열의 항을 계산하는 함수를 작성하시오.\n",
    " \n",
    " 예)\n",
    " $fib(0) = 0$ \n",
    "\n",
    " $fib(1) = 1$\n",
    " \n",
    " $fib(5) = 5$ \n",
    " \n",
    " $fib(10) = 55$\n",
    " \n",
    " ## 첫 번째 해법 찾기\n",
    " \n",
    " FAST 방법의 첫 번째 단계는 가능한 첫 번째 해법을 찾는 것이다. 이런 종류의 문제에서는 피보나치 수열의 정의에 집중한다면 그 해법을 찾을 수 있다. 만약 정의가 확실치 않다면 인터뷰어에게 물어보면 된다. 하지만, 대부분의 사람들이 학교에서 다음의 개념을 배웠을 것이다.\n",
    "\n",
    "$fib(n) = fib(n-1) + fib(n-2)$\n",
    "\n"
   ]
  }
 ],
 "metadata": {
  "anaconda-cloud": {},
  "kernelspec": {
   "display_name": "Python [default]",
   "language": "python",
   "name": "python3"
  },
  "language_info": {
   "codemirror_mode": {
    "name": "ipython",
    "version": 3
   },
   "file_extension": ".py",
   "mimetype": "text/x-python",
   "name": "python",
   "nbconvert_exporter": "python",
   "pygments_lexer": "ipython3",
   "version": "3.5.2"
  }
 },
 "nbformat": 4,
 "nbformat_minor": 2
}
