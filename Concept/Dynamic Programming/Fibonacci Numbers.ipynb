{
 "cells": [
  {
   "cell_type": "markdown",
   "metadata": {
    "collapsed": true
   },
   "source": [
    " 정수 n 이 주어졌을 때 n 번째 피보나치 수열의 항을 계산하는 함수를 작성하시오.\n",
    " \n",
    " 예)\n",
    " $fib(0) = 0$ \n",
    "\n",
    " $fib(1) = 1$\n",
    " \n",
    " $fib(5) = 5$ \n",
    " \n",
    " $fib(10) = 55$\n"
   ]
  },
  {
   "cell_type": "markdown",
   "metadata": {},
   "source": [
    " \n",
    " ## 첫 번째 해법 찾기\n",
    " \n",
    " FAST 방법의 첫 번째 단계는 가능한 첫 번째 해법을 찾는 것이다. 이런 종류의 문제에서는 피보나치 수열의 정의에 집중한다면 그 해법을 찾을 수 있다. 만약 정의가 확실치 않다면 인터뷰어에게 물어보면 된다. 하지만, 대부분의 사람들이 학교에서 다음의 개념을 배웠을 것이다.\n",
    "\n",
    "$fib(n) = fib(n-1) + fib(n-2)$\n",
    "\n",
    "$fib(0) = 0$\n",
    "\n",
    "$fib(1) = 1$\n",
    "\n",
    "위의 세 표현식만 사용한다면, 모든 피보나치 수열 문제를 풀 수 있다.\n",
    "\n",
    "세 표현식을 자세히 살펴보면 이미 재귀적 함수를 정의했다는 것을 알 수 있다. $f(0), f(1)$ 이렇게 두 개의 기본 케이스가 있다. $fib(n) = fib(n-1) + fib(n - 2)$는 재귀적 호출에 해당한다. 따라서, 첫 번째 해법을 다음과 같이 작성할 수 있다.(fig.1)"
   ]
  },
  {
   "cell_type": "code",
   "execution_count": 6,
   "metadata": {
    "collapsed": false
   },
   "outputs": [],
   "source": [
    "#java\n",
    "'''\n",
    "//Fig 1. 단순한 재귀 피보나치 해법\n",
    "//피보나치 수열을 계산한다.\n",
    "// n은 0보다 크고 int 자료형으로 결과를 저장하기에 충분하다고 가정한다.\n",
    "\n",
    "public int fib(int n) {\n",
    "    if (n == 0) return 0;\n",
    "    if (n == 1) return 1;\n",
    "    return fib(n-1) + fib(n-2_);\n",
    "}\n",
    "'''\n",
    "\n",
    "#python\n",
    "\n",
    "def fib(n):\n",
    "    if n == 0:\n",
    "        return 0\n",
    "    if n == 1:\n",
    "        return 1\n",
    "    return fib(n-1) + fib(n-2)\n"
   ]
  },
  {
   "cell_type": "markdown",
   "metadata": {},
   "source": [
    "## 첫 번째 해법 분석\n",
    "\n",
    "첫 번째 해법은 보다시피 매우 짧고 훌륭한 방법으로 문제를 풀었다. if 문을 결합한다면 단 두 줄으로도 작성 할 수 있는 코드이다. 하지만, $fib(4)$를 수행할 때 시간에 따라 어떤 값을 쌓아나가는 지 확인해 보자. (fig.2)\n",
    "\n",
    "![title](../img/dp_1.png)\n",
    "\n",
    "위의 그래프는 이 해법이 이상적이지 않다는 것을 보여주고 있다. $fib(0)$과 $fib(1)$는 상수 시간 복잡도를 가지지만 $fib(2)$는 여러 번 호출되며, 호출될 때마다 재귀적 호출을 수반한다. \n",
    "\n",
    "우리는 이미 재귀적 호출의 깊이(트리의 높이)가 $n$이라는 것을 알고 있으므로 수행 시간을 빠르게 계산할 수 있다. 즉, 우리는 $n-1$번 만큼 우리가 짠 함수를 호출하게 된다. 또한, 각각의 재귀적인 호출은 우리가 기본 사례 (base case)에 도달할 때까지 항상 두 번의 호출을 수반한다. 그러므로 함수의 호출 수는 $1+2+4+8 ... + 2^{n-1}$ 또는 $2^0+2^1+...+2^{n-1}$이 되며 $O(2^n)$으로 수렴한다.\n",
    "\n",
    "너무 긴 수행시간이다!"
   ]
  },
  {
   "cell_type": "markdown",
   "metadata": {},
   "source": [
    "## 부분 문제 확인"
   ]
  },
  {
   "cell_type": "markdown",
   "metadata": {},
   "source": [
    "## 해법 수정\n"
   ]
  }
 ],
 "metadata": {
  "anaconda-cloud": {},
  "kernelspec": {
   "display_name": "Python [default]",
   "language": "python",
   "name": "python3"
  },
  "language_info": {
   "codemirror_mode": {
    "name": "ipython",
    "version": 3
   },
   "file_extension": ".py",
   "mimetype": "text/x-python",
   "name": "python",
   "nbconvert_exporter": "python",
   "pygments_lexer": "ipython3",
   "version": "3.5.2"
  }
 },
 "nbformat": 4,
 "nbformat_minor": 2
}
