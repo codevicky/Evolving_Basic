{
 "cells": [
  {
   "cell_type": "markdown",
   "metadata": {},
   "source": [
    "출처: www.dynamicprogrammingbook.com\n",
    "\n",
    "본 내용은 위의 링크에서 <b>무료</b>로 다운 받을 수 있는 e-book을 기반으로 작성된 것입니다."
   ]
  },
  {
   "cell_type": "markdown",
   "metadata": {},
   "source": [
    "# 동적 프로그래밍이란 무엇인가?\n",
    "\n",
    "가장 먼저 동적 프로그래밍의 개념을 잘 이해해보자. 일반적으로, 동적 프로그래밍이란 반복적인 연산이 필요할 때마다 연산을 계속 반복하기보다 해당 연산을 메모리 상에 저장하는 기술을 말한다. 이 기술의 궁극적인 목표는 수행시간(run time)을 개선하는 것이다. 동적 프로그래밍은 많은 공간을 사용하는 대신 더 적은 시간을 사용할 수 있게 해준다.\n",
    "\n",
    "동적 프로그래밍을 활용해 최적화 할 수 있는 모든 문제는 다음의 두 가지 특성을 가지고 있다: <b>최적 부분 구조(Optimal substructure)</b>과 <b>중복 부분 구조(overlapping subproblems)</b>가 그것이다.\n",
    "\n",
    "## 최적 부분 구조\n",
    "\n",
    "어떤 문제를 부분 구조(substructure)를 기반으로 풀 수 있는 경우, 최적 부분 구조를 가졌다고 말한다. 예를 들어, 5번째 피보나치 수열을 구하고자 할 때 다음 식을 계산하여 구할 수 있다. <b>fib(5) = fib(4) + fib(3)</b> fib(5)를 구하기 위해서는 두 개의 부분 구조들만이 필요하다.\n",
    "\n",
    "최적 부분 구조를 판단하는 유용한 방법은 해당 문제가 회귀적으로 (recursively) 쉽게 풀 수 있는 지 생각해보는 것이다. 회귀적 방법(Recursive solutions)은 하나의 문제를 작은 부분 구조로 쪼개어 문제를 해결하는 것이다. 어떤 문제를 회귀적으로 풀 수 있다면, 그 문제는 최적 부분 구조를 가지고 있다고 말 할 수 있다.\n",
    "\n",
    "## 중복 부분 구조\n",
    "\n",
    "# 핵심 용어들\n",
    "\n",
    "## Memoization\n",
    "\n",
    "## Top-down and bottom-up\n",
    "\n"
   ]
  }
 ],
 "metadata": {
  "anaconda-cloud": {},
  "kernelspec": {
   "display_name": "Python [default]",
   "language": "python",
   "name": "python3"
  },
  "language_info": {
   "codemirror_mode": {
    "name": "ipython",
    "version": 3
   },
   "file_extension": ".py",
   "mimetype": "text/x-python",
   "name": "python",
   "nbconvert_exporter": "python",
   "pygments_lexer": "ipython3",
   "version": "3.5.2"
  }
 },
 "nbformat": 4,
 "nbformat_minor": 2
}
