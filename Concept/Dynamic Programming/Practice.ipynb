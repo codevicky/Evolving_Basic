{
 "cells": [
  {
   "cell_type": "markdown",
   "metadata": {},
   "source": [
    "# FAST 방법\n",
    "\n",
    "가장 성공적인 면접자들은 성공할 수 있는 반복적인 전략을 만들 줄 아는 사람들이다. 이 점은 동적 프로그래밍에서 특히 중요하다. 이것이 FAST 방법이 만들어진 이유이다.\n",
    "\n",
    "FAST 방법은 네 단계로 이루어져 있다:\n",
    "\n",
    "1. <b>F</b>ifst solution (첫 해법)\n",
    "2. <b>A</b>nalyze the first solution (첫 해법 분석)\n",
    "3. Identify the <b>S</b>ubproblems (부분 문제들을 확인)\n",
    "4. <b>T</b>urn the solution around (해법 수정)\n",
    "\n",
    "이 FAST 방법을 이용하면 거의 모든 문제의 최적화된 동적 해법을 쉽게 찾을 수 있다."
   ]
  }
 ],
 "metadata": {
  "anaconda-cloud": {},
  "kernelspec": {
   "display_name": "Python [default]",
   "language": "python",
   "name": "python3"
  },
  "language_info": {
   "codemirror_mode": {
    "name": "ipython",
    "version": 3
   },
   "file_extension": ".py",
   "mimetype": "text/x-python",
   "name": "python",
   "nbconvert_exporter": "python",
   "pygments_lexer": "ipython3",
   "version": "3.5.2"
  }
 },
 "nbformat": 4,
 "nbformat_minor": 2
}
