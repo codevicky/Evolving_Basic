{
 "cells": [
  {
   "cell_type": "markdown",
   "metadata": {},
   "source": [
    "# FAST 방법\n",
    "\n",
    "가장 성공적인 면접자들은 성공할 수 있는 반복적인 전략을 만들 줄 아는 사람들이다. 이 점은 동적 프로그래밍에서 특히 중요하다. 이것이 FAST 방법이 만들어진 이유이다.\n",
    "\n",
    "FAST 방법은 네 단계로 이루어져 있다:\n",
    "\n",
    "1. <b>F</b>ifst solution (첫 해법)\n",
    "2. <b>A</b>nalyze the first solution (첫 해법 분석)\n",
    "3. Identify the <b>S</b>ubproblems (부분 문제 확인)\n",
    "4. <b>T</b>urn the solution around (해법 수정)\n",
    "\n",
    "이 FAST 방법을 이용하면 거의 모든 문제의 최적화된 동적 해법을 쉽게 찾을 수 있다.\n",
    "\n",
    "## 첫 해법: First solution\n",
    "\n",
    "이 방법은 어떤 인터뷰 질문에 답하더라도 중요한 단계이지만 동적 프로그래밍에서 특히 중요하다. 이 단계에서는 가능한 첫 번째 방법을 찾는다. 일단 문제가 풀리기만 하면 된다는 생각으로 방법을 찾아내면 된다. 본 단계의 목적은 효율성에 대한 고려 없이 문제를 푸는 것이다. 즉, 만약 가장 큰/작은/긴/짧은 무엇인가를 찾는 문제가 주어졌다면, 모든 경우를 일일이 검토하고 비교하여 답을 찾는 코드를 작성해야 한다.\n",
    "\n",
    "해법이 가져야 하는 다른 제약 조건들은 다음과 같다:\n",
    "* 재귀 호출은 독립적이야 한다. 즉, 전역 변수는 존재하지 않는다.\n",
    "* [꼬리호출](https://homoefficio.github.io/2015/07/27/%EC%9E%AC%EA%B7%80-%EB%B0%98%EB%B3%B5-Tail-Recursion/)을 해서는 안된다. 부분 문제들의 각각의 결과를 구한 후 그 결과들을 결합하는 방식의 해법을 제안해야 한다.\n",
    "* 불필요한 변수들을 전달하지 말라. 예를 들어, 리턴을 통해 재귀의 깊이(depth)를 계산할 수 있다면 재귀 함수에서 셈(count) 변수를 전달하지 말라.\n",
    "\n",
    "## 첫 해법 분석: Analyze the first solution\n",
    "\n",
    "## 부분 문제 확인: Find the Subproblems\n",
    "\n",
    "## 해법 수정: Turn the solution around"
   ]
  }
 ],
 "metadata": {
  "anaconda-cloud": {},
  "kernelspec": {
   "display_name": "Python [default]",
   "language": "python",
   "name": "python3"
  },
  "language_info": {
   "codemirror_mode": {
    "name": "ipython",
    "version": 3
   },
   "file_extension": ".py",
   "mimetype": "text/x-python",
   "name": "python",
   "nbconvert_exporter": "python",
   "pygments_lexer": "ipython3",
   "version": "3.5.2"
  }
 },
 "nbformat": 4,
 "nbformat_minor": 2
}
