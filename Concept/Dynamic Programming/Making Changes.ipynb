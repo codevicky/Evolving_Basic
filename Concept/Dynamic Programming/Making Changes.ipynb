{
 "cells": [
  {
   "cell_type": "markdown",
   "metadata": {
    "collapsed": true
   },
   "source": [
    "거스름돈의 금액을 나타내는 숫자가 주어졌을 때, 거스름돈을 낼 수 있는 동전의 최소 개수가 몇 개인지 구하는 함수를 작성하라. \n",
    "\n",
    "예) 미국 동전이 있다고 가정해보자: 1, 5, 10, 25 센트\n",
    "\n",
    "makeChange(1) = 1 (1)\n",
    "\n",
    "makeChange(2) = 2 (5+1)\n",
    "\n",
    "makehange(49) = 7 (25 + 10 + 10 + 1 + 1 + 1 + 1)"
   ]
  },
  {
   "cell_type": "markdown",
   "metadata": {},
   "source": [
    "## 첫 번째 해법 찾기\n",
    "\n",
    "첫 번째 해법부터 찾아보자. 최대/최소/가장 큰 경우의 수/가장 작은 경우의 수를 찾는 문제를 풀 때 좋은 기술 중 하나는 가능한 모든 조합들을 비교해 보는 것이다. 비록 비효율적인 방법일 지 모르나 이 단계에서는 효율성을 고려하지 않아도 된다. 이 기술은 동적 해법을 찾는데 큰 도움이 된다.\n",
    "\n",
    "우선, 가능한 모든 조합을 찾는 재귀함수를 간단히 작성해보자 (fig.7). 각 재귀 단계마다 해법은 하위 문제들로 나뉘어 질 수 있다. 만약 25센트가 선택된다면 남은 거스름돈을 지불하기 위한 동전은 몇 개가 필요할까?"
   ]
  },
  {
   "cell_type": "code",
   "execution_count": null,
   "metadata": {
    "collapsed": true
   },
   "outputs": [],
   "source": []
  }
 ],
 "metadata": {
  "anaconda-cloud": {},
  "kernelspec": {
   "display_name": "Python [conda root]",
   "language": "python",
   "name": "conda-root-py"
  },
  "language_info": {
   "codemirror_mode": {
    "name": "ipython",
    "version": 3
   },
   "file_extension": ".py",
   "mimetype": "text/x-python",
   "name": "python",
   "nbconvert_exporter": "python",
   "pygments_lexer": "ipython3",
   "version": "3.5.2"
  }
 },
 "nbformat": 4,
 "nbformat_minor": 2
}
