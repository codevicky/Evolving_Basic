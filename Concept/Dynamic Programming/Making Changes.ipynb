{
 "cells": [
  {
   "cell_type": "markdown",
   "metadata": {
    "collapsed": true
   },
   "source": [
    "거스름돈의 금액을 나타내는 숫자가 주어졌을 때, 거스름돈을 낼 수 있는 동전의 최소 개수가 몇 개인지 구하는 함수를 작성하라. \n",
    "\n",
    "예) 미국 동전이 있다고 가정해보자: 1, 5, 10, 25 센트\n",
    "\n",
    "makeChange(1) = 1 (1)\n",
    "\n",
    "makeChange(2) = 2 (5+1)\n",
    "\n",
    "makehange(49) = 7 (25 + 10 + 10 + 1 + 1 + 1 + 1)"
   ]
  },
  {
   "cell_type": "markdown",
   "metadata": {},
   "source": [
    "## 첫 번째 해법 찾기\n",
    "\n",
    "첫 번째 해법부터 찾아보자. 최대/최소/가장 큰 경우의 수/가장 작은 경우의 수를 찾는 문제를 풀 때 좋은 기술 중 하나는 가능한 모든 조합들을 비교해 보는 것이다. 비록 비효율적인 방법일 지 모르나 이 단계에서는 효율성을 고려하지 않아도 된다. 이 기술은 동적 해법을 찾는데 큰 도움이 된다.\n",
    "\n",
    "우선, 가능한 모든 조합을 찾는 재귀함수를 간단히 작성해보자 (fig.7). 각 재귀 단계마다 해법은 하위 문제들로 나뉘어 질 수 있다. 만약 25센트가 선택된다면 남은 거스름돈을 지불하려면 최소 몇 개의 동전이 필요할까?"
   ]
  },
  {
   "cell_type": "code",
   "execution_count": 6,
   "metadata": {
    "collapsed": false
   },
   "outputs": [],
   "source": [
    "#Fig 7. 단순한 잔돈 계산 해법\n",
    "\n",
    "# java\n",
    "'''\n",
    "//정말 단순한 방법. 합이 c가 되는 모든 동전의 조합을\n",
    "//구하여, 가장 최소가 되는 숫자를 구한다.\n",
    "private int[] coins  = new int[]{10, 5, 1};\n",
    "public int makeChange(int c) {\n",
    "   if (c == 0) return 0;\n",
    "   int minCoins = Integer.MAX_VALUE;\n",
    "   \n",
    "   //총 액에서 각 동전의 값을 뺀 후\n",
    "   //몇 개의 코인이 더 필요한 지 계산한다.\n",
    "   for(int coin:coins) {\n",
    "       \n",
    "       //남은 액수보다 동전이 더 클 경우 넘어간다.\n",
    "       if (c - coin >= 0) {\n",
    "           int currMinCoins = makeChange(c - coin);\n",
    "           if (currMinCoins < minCoins)\n",
    "               minCoins = currMinCoins;\n",
    "       }\n",
    "   }\n",
    "   \n",
    "   //코인이 하나 줄어들 때마다 재귀적으로 더해지는 숫자\n",
    "   return minCoins + 1;\n",
    "}\n",
    "'''\n",
    "#python\n",
    "import sys\n",
    "\n",
    "coins = [10, 6, 1]\n",
    "def makeChange(c):\n",
    "    minCoins = sys.maxsize\n",
    "    if (c is 0): return 0\n",
    "    \n",
    "    else:\n",
    "        for coin in coins:\n",
    "            if (c - coin) >= 0:\n",
    "                currMinCoins = makeChange(c - coin)\n",
    "                if(currMinCoins < minCoins):\n",
    "                    minCoins = currMinCoins\n",
    "                    \n",
    "        return minCoins + 1"
   ]
  },
  {
   "cell_type": "markdown",
   "metadata": {},
   "source": [
    "이 문제를 풀기 위해 자주 사용되는 효율적 알고리즘을 탐욕 알고리즘(greedy algorithm)이라 한다. 이 상황에서는 남은 거스름돈보다 크지 않은 가장 큰 동전을 찾아야 하기 때문이다. 하지만 이 방식은 다양한 동전 조합들을 구별해 낼 수 없다. (1, 6, 10 센트를 가지고 있을 때 $makeChange(12)$를 계산하는 경우를 생각해 보라.) 그러므로 더 일반화된 해법을 찾아내야 한다.\n",
    "\n",
    "## 첫 번째 해법 분석\n",
    "\n",
    "예상했듯이 코드를 실행해 보면 첫 번째 반복 부분부터 비효율적이라는 것을 알 수 있다. 가능한 모든 조합을 살펴보아야 하기 때문에 굉장히 많은 경우를 검토해야 한다.\n",
    "\n",
    "<b>1. 최적 부분 구조</b>\n",
    "\n",
    "\n",
    "<b>2. 중복 부분 구조</b>"
   ]
  },
  {
   "cell_type": "code",
   "execution_count": 8,
   "metadata": {
    "collapsed": false
   },
   "outputs": [
    {
     "data": {
      "text/plain": [
       "5"
      ]
     },
     "execution_count": 8,
     "metadata": {},
     "output_type": "execute_result"
    }
   ],
   "source": [
    "makeChange(15)"
   ]
  }
 ],
 "metadata": {
  "anaconda-cloud": {},
  "kernelspec": {
   "display_name": "Python [conda root]",
   "language": "python",
   "name": "conda-root-py"
  },
  "language_info": {
   "codemirror_mode": {
    "name": "ipython",
    "version": 3
   },
   "file_extension": ".py",
   "mimetype": "text/x-python",
   "name": "python",
   "nbconvert_exporter": "python",
   "pygments_lexer": "ipython3",
   "version": "3.5.2"
  }
 },
 "nbformat": 4,
 "nbformat_minor": 2
}
