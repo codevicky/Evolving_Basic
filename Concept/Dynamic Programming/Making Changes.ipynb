{
 "cells": [
  {
   "cell_type": "markdown",
   "metadata": {
    "collapsed": true
   },
   "source": [
    "거스름돈의 금액을 나타내는 숫자가 주어졌을 때, 거스름돈을 낼 수 있는 동전의 최소 개수가 몇 개인지 구하는 함수를 작성하라. \n",
    "\n",
    "예) 미국 동전이 있다고 가정해보자: 1, 5, 10, 25 센트\n",
    "\n",
    "makeChange(1) = 1 (1)\n",
    "\n",
    "makeChange(2) = 2 (5+1)\n",
    "\n",
    "makehange(49) = 7 (25 + 10 + 10 + 1 + 1 + 1 + 1)"
   ]
  }
 ],
 "metadata": {
  "anaconda-cloud": {},
  "kernelspec": {
   "display_name": "Python [conda root]",
   "language": "python",
   "name": "conda-root-py"
  },
  "language_info": {
   "codemirror_mode": {
    "name": "ipython",
    "version": 3
   },
   "file_extension": ".py",
   "mimetype": "text/x-python",
   "name": "python",
   "nbconvert_exporter": "python",
   "pygments_lexer": "ipython3",
   "version": "3.5.2"
  }
 },
 "nbformat": 4,
 "nbformat_minor": 2
}
