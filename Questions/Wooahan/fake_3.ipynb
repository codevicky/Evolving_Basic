{
 "cells": [
  {
   "cell_type": "markdown",
   "metadata": {},
   "source": [
    "아래의 조건을 만족하는 해는 윤년(leap year)이라고 합니다.\n",
    "\n",
    "서력기원으로 연수가 4로 나누어 떨어지는 해는 윤년으로 한다.(2004년, 2008년, 2012년, 2016년, 2020년…)\n",
    "이 중에서 100으로 나누어 떨어지는 해는 평년으로 한다.(1900년, 2100년, 2200년, 2300년…)\n",
    "그중에 400으로 나누어 떨어지는 해는 윤년으로 둔다.(1600년, 2000년, 2400년 …)\n",
    "연도를 입력받고 윤년인지 아닌지를 결정하는 프로그램을 작성하십시오.\n",
    "\n",
    "\n",
    "\n",
    "입력\n",
    "\n",
    "년도(0년 이상)\n",
    "\n",
    "출력\n",
    "\n",
    "윤년일 경우 Leap Year\n",
    "\n",
    "평년일 경우 Not Leap Year"
   ]
  }
 ],
 "metadata": {
  "anaconda-cloud": {},
  "kernelspec": {
   "display_name": "Python [default]",
   "language": "python",
   "name": "python3"
  },
  "language_info": {
   "codemirror_mode": {
    "name": "ipython",
    "version": 3
   },
   "file_extension": ".py",
   "mimetype": "text/x-python",
   "name": "python",
   "nbconvert_exporter": "python",
   "pygments_lexer": "ipython3",
   "version": "3.5.2"
  }
 },
 "nbformat": 4,
 "nbformat_minor": 2
}
