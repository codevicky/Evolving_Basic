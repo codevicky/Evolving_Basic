{
 "cells": [
  {
   "cell_type": "markdown",
   "metadata": {},
   "source": [
    "## A Very Big Sum\n",
    "https://www.hackerrank.com/challenges/a-very-big-sum/problem"
   ]
  },
  {
   "cell_type": "markdown",
   "metadata": {},
   "source": [
    "### My Solution (Python3)"
   ]
  },
  {
   "cell_type": "code",
   "execution_count": null,
   "metadata": {
    "collapsed": true
   },
   "outputs": [],
   "source": [
    "#!/bin/python3\n",
    "\n",
    "import sys\n",
    "\n",
    "def aVeryBigSum(n, ar):\n",
    "    # Complete this function\n",
    "    sum = 0\n",
    "    for i in range(n):\n",
    "        sum += ar[i]\n",
    "    return sum\n",
    "    \n",
    "\n",
    "n = int(input().strip())\n",
    "ar = list(map(int, input().strip().split(' ')))\n",
    "result = aVeryBigSum(n, ar)\n",
    "print(result)\n"
   ]
  },
  {
   "cell_type": "markdown",
   "metadata": {},
   "source": [
    "### scotmatson's solution(Python3)"
   ]
  },
  {
   "cell_type": "code",
   "execution_count": null,
   "metadata": {
    "collapsed": true
   },
   "outputs": [],
   "source": [
    "#Yeah but your missing the point. Firstly a number of people are coming here with little to no experience and this is great practice for them.\n",
    "#The problem is clearly labeled as being easy, however maybe that didn't exist 2 years ago when this post was made.\n",
    "#And for people with more experience, it is an opportunity to play around.\n",
    "#Case in point:\n",
    "\n",
    "def aVeryBigSum(n, ar):\n",
    "    return reduce(lambda x, y: x + y, ar, 0)\n",
    "\n",
    "def reduce(func, arr, s):\n",
    "    for v in arr:\n",
    "        s = func(s, v)\n",
    "    return s\n",
    "\n",
    "n = int(input().strip())\n",
    "ar = list(map(int, input().strip().split(' ')))\n",
    "result = aVeryBigSum(n, ar)\n",
    "print(result)"
   ]
  }
 ],
 "metadata": {
  "kernelspec": {
   "display_name": "Python [conda root]",
   "language": "python",
   "name": "conda-root-py"
  },
  "language_info": {
   "codemirror_mode": {
    "name": "ipython",
    "version": 3
   },
   "file_extension": ".py",
   "mimetype": "text/x-python",
   "name": "python",
   "nbconvert_exporter": "python",
   "pygments_lexer": "ipython3",
   "version": "3.5.2"
  }
 },
 "nbformat": 4,
 "nbformat_minor": 2
}
