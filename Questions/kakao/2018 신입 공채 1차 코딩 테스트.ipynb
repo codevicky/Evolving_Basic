{
 "cells": [
  {
   "cell_type": "markdown",
   "metadata": {},
   "source": [
    "## 2018 신입 공채 1차 코딩 테스트\n",
    "http://ppikanyang.tistory.com/entry/%EC%B9%B4%EC%B9%B4%EC%98%A4-%EC%8B%A0%EC%9E%85-%EA%B3%B5%EC%B1%84-1%EC%B0%A8-%EC%BD%94%EB%94%A9-%ED%85%8C%EC%8A%A4%ED%8A%B8-1%EB%B2%88-%EB%AC%B8%EC%A0%9C"
   ]
  },
  {
   "cell_type": "code",
   "execution_count": 39,
   "metadata": {
    "collapsed": false
   },
   "outputs": [],
   "source": [
    "#1. 비밀 지도 (난이도: 하)\n",
    "\n",
    "def find_secret(n, array1, array2):\n",
    "    a3 = []\n",
    "    result_list = [] \n",
    "    for a1, a2 in zip (array1, array2):\n",
    "        a3.append(a1|a2)\n",
    "    for e_a3 in a3:\n",
    "        result_list.append(bin(e_a3)[2:].zfill(n).\n",
    "              replace('1', '#').replace('0', ' '))\n",
    "    return result_list\n",
    "        \n",
    "        \n",
    "# reference: http://codingdojang.com/scode/570\n",
    "\n",
    "def find_secret2(n, arr1, arr2):\n",
    "    print(['{0:b}'.format((i | j)).zfill(n).\n",
    "           replace('0', ' ').replace('1', '#') \n",
    "           for i, j in zip(arr1, arr2)])\n"
   ]
  },
  {
   "cell_type": "code",
   "execution_count": 40,
   "metadata": {
    "collapsed": false
   },
   "outputs": [
    {
     "data": {
      "text/plain": [
       "[' #####', ' # # #', ' ### #', ' #  ##', ' #####', '  ##  ']"
      ]
     },
     "execution_count": 40,
     "metadata": {},
     "output_type": "execute_result"
    }
   ],
   "source": [
    "find_secret(6, [9, 20, 28, 18, 11, 12], [30, 1, 21, 17, 28, 0])"
   ]
  },
  {
   "cell_type": "code",
   "execution_count": 37,
   "metadata": {
    "collapsed": false
   },
   "outputs": [
    {
     "name": "stdout",
     "output_type": "stream",
     "text": [
      "[' #####', ' # # #', ' ### #', ' #  ##', ' #####', '  ##  ']\n"
     ]
    }
   ],
   "source": [
    "find_secret2(6, [9, 20, 28, 18, 11, 12], [30, 1, 21, 17, 28, 0])"
   ]
  },
  {
   "cell_type": "code",
   "execution_count": null,
   "metadata": {
    "collapsed": true
   },
   "outputs": [],
   "source": [
    "#2. 다트 게임 (난이도: 하)"
   ]
  }
 ],
 "metadata": {
  "anaconda-cloud": {},
  "kernelspec": {
   "display_name": "Python [default]",
   "language": "python",
   "name": "python3"
  },
  "language_info": {
   "codemirror_mode": {
    "name": "ipython",
    "version": 3
   },
   "file_extension": ".py",
   "mimetype": "text/x-python",
   "name": "python",
   "nbconvert_exporter": "python",
   "pygments_lexer": "ipython3",
   "version": "3.5.2"
  }
 },
 "nbformat": 4,
 "nbformat_minor": 2
}
