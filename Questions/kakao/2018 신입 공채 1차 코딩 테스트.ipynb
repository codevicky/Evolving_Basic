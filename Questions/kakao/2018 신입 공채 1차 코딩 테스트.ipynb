{
 "cells": [
  {
   "cell_type": "markdown",
   "metadata": {},
   "source": [
    "## 2018 신입 공채 1차 코딩 테스트\n",
    "http://tech.kakao.com/2017/09/27/kakao-blind-recruitment-round-1/"
   ]
  },
  {
   "cell_type": "code",
   "execution_count": 39,
   "metadata": {
    "collapsed": false
   },
   "outputs": [],
   "source": [
    "#1. 비밀 지도 (난이도: 하)\n",
    "\n",
    "def find_secret(n, array1, array2):\n",
    "    a3 = []\n",
    "    result_list = [] \n",
    "    for a1, a2 in zip (array1, array2):\n",
    "        a3.append(a1|a2)\n",
    "    for e_a3 in a3:\n",
    "        result_list.append(bin(e_a3)[2:].zfill(n).\n",
    "              replace('1', '#').replace('0', ' '))\n",
    "    return result_list\n",
    "        \n",
    "        \n",
    "# reference: http://codingdojang.com/scode/570\n",
    "\n",
    "def find_secret2(n, arr1, arr2):\n",
    "    print(['{0:b}'.format((i | j)).zfill(n).\n",
    "           replace('0', ' ').replace('1', '#') \n",
    "           for i, j in zip(arr1, arr2)])\n"
   ]
  },
  {
   "cell_type": "code",
   "execution_count": 40,
   "metadata": {
    "collapsed": false
   },
   "outputs": [
    {
     "data": {
      "text/plain": [
       "[' #####', ' # # #', ' ### #', ' #  ##', ' #####', '  ##  ']"
      ]
     },
     "execution_count": 40,
     "metadata": {},
     "output_type": "execute_result"
    }
   ],
   "source": [
    "find_secret(6, [9, 20, 28, 18, 11, 12], [30, 1, 21, 17, 28, 0])"
   ]
  },
  {
   "cell_type": "code",
   "execution_count": 37,
   "metadata": {
    "collapsed": false,
    "scrolled": true
   },
   "outputs": [
    {
     "name": "stdout",
     "output_type": "stream",
     "text": [
      "[' #####', ' # # #', ' ### #', ' #  ##', ' #####', '  ##  ']\n"
     ]
    }
   ],
   "source": [
    "find_secret2(6, [9, 20, 28, 18, 11, 12], [30, 1, 21, 17, 28, 0])"
   ]
  },
  {
   "cell_type": "code",
   "execution_count": 27,
   "metadata": {
    "collapsed": false
   },
   "outputs": [],
   "source": [
    "#2. 다트 게임 (난이도: 하)\n",
    "\n",
    "import re\n",
    "\n",
    "def calculate_scores(dr):\n",
    "    score = re.findall('\\d+', dr)\n",
    "    score_new = []\n",
    "    score_final = [0, 0, 0]\n",
    "    score_new.append(dr[0:dr.find(score[1])])\n",
    "    score_new.append(dr[dr.find(score[1]):dr.find(score[2])])\n",
    "    score_new.append(dr[dr.find(score[2]):])\n",
    "    \n",
    "    for i in range(len(score_new)):\n",
    "        if 'S' in score_new[i]:\n",
    "            score_final[i] = int(score[i])\n",
    "        elif 'D' in score_new[i]:\n",
    "            score_final[i] = int(score[i])*int(score[i])\n",
    "        elif 'T' in score_new[i]:\n",
    "            score_final[i] = int(score[i])*int(score[i])*int(score[i])\n",
    "            \n",
    "        if '*' in score_new[i]:\n",
    "            if i is 0:\n",
    "                score_final[i] = score_final[i] * 2\n",
    "            else:\n",
    "                score_final[i] = score_final[i] * 2\n",
    "                score_final[i-1] = score_final[i-1] * 2\n",
    "        \n",
    "        if '#' in score_new[i]:\n",
    "            score_final[i] = score_final[i] * (-1)\n",
    "    \n",
    "    final_score = 0\n",
    "    for s_f in score_final:\n",
    "        final_score += s_f\n",
    "        \n",
    "    return final_score\n",
    "\n",
    "\n",
    "\n",
    "#ref: http://hagnod.tistory.com/474\n",
    "def calculate_scores_2(in_str):\n",
    "    digits = re.findall('\\d+', in_str)\n",
    "    non_digits = re.findall('\\D+', in_str)\n",
    "    score = []\n",
    "\n",
    "    for i in range(0,3):\n",
    "        score.append(int(digits[i]))\n",
    "        if non_digits[i].count('S'):\n",
    "            None\n",
    "        elif non_digits[i].count('D'):\n",
    "            score[i] = score[i] * score[i]\n",
    "        elif non_digits[i].count('T'):\n",
    "            score[i] = score[i] * score[i] * score[i]\n",
    "        \n",
    "        if non_digits[i].count('#'):\n",
    "            score[i] = score[i] * (-1)\n",
    "        elif non_digits[i].count('*'):\n",
    "            if i < 1:\n",
    "                score[i] = score[i] * 2\n",
    "            else:\n",
    "                score[i-1] = score[i-1] * 2\n",
    "                score[i] = score[i] * 2\n",
    "                \n",
    "    total_score = 0\n",
    "    for s in score:\n",
    "         total_score += s\n",
    "    return total_score\n"
   ]
  },
  {
   "cell_type": "code",
   "execution_count": 28,
   "metadata": {
    "collapsed": false
   },
   "outputs": [
    {
     "name": "stdout",
     "output_type": "stream",
     "text": [
      "['1', '2', '10']\n",
      "['1', '2', '10']\n",
      "9\n"
     ]
    }
   ],
   "source": [
    "print(calculate_scores('1D2S#10S'))"
   ]
  },
  {
   "cell_type": "code",
   "execution_count": 29,
   "metadata": {
    "collapsed": false
   },
   "outputs": [
    {
     "name": "stdout",
     "output_type": "stream",
     "text": [
      "9\n"
     ]
    }
   ],
   "source": [
    "print(calculate_scores_2('1D2S#10S'))"
   ]
  },
  {
   "cell_type": "code",
   "execution_count": null,
   "metadata": {
    "collapsed": true
   },
   "outputs": [],
   "source": [
    "#3. 캐시 (난이도: 하)"
   ]
  }
 ],
 "metadata": {
  "anaconda-cloud": {},
  "kernelspec": {
   "display_name": "Python [default]",
   "language": "python",
   "name": "python3"
  },
  "language_info": {
   "codemirror_mode": {
    "name": "ipython",
    "version": 3
   },
   "file_extension": ".py",
   "mimetype": "text/x-python",
   "name": "python",
   "nbconvert_exporter": "python",
   "pygments_lexer": "ipython3",
   "version": "3.5.2"
  }
 },
 "nbformat": 4,
 "nbformat_minor": 2
}
